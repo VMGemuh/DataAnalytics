{
 "cells": [
  {
   "cell_type": "markdown",
   "metadata": {},
   "source": [
    "Question 1:"
   ]
  },
  {
   "cell_type": "code",
   "execution_count": 1,
   "metadata": {},
   "outputs": [
    {
     "name": "stderr",
     "output_type": "stream",
     "text": [
      "C:\\Users\\vmgem\\AppData\\Local\\Temp\\ipykernel_20204\\3269992828.py:2: DeprecationWarning: \n",
      "Pyarrow will become a required dependency of pandas in the next major release of pandas (pandas 3.0),\n",
      "(to allow more performant data types, such as the Arrow string type, and better interoperability with other libraries)\n",
      "but was not found to be installed on your system.\n",
      "If this would cause problems for you,\n",
      "please provide us feedback at https://github.com/pandas-dev/pandas/issues/54466\n",
      "        \n",
      "  import pandas as pd\n"
     ]
    }
   ],
   "source": [
    "import numpy as np\n",
    "import pandas as pd\n"
   ]
  },
  {
   "cell_type": "code",
   "execution_count": 3,
   "metadata": {},
   "outputs": [
    {
     "data": {
      "text/plain": [
       "Index(['Loan ID', 'Customer ID', 'Loan Status', 'Current Loan Amount', 'Term',\n",
       "       'Credit Score', 'Annual Income', 'Years in current job',\n",
       "       'Home Ownership', 'Purpose', 'Monthly Debt', 'Years of Credit History',\n",
       "       'Months since last delinquent', 'Number of Open Accounts',\n",
       "       'Number of Credit Problems', 'Current Credit Balance',\n",
       "       'Maximum Open Credit', 'Bankruptcies', 'Tax Liens'],\n",
       "      dtype='object')"
      ]
     },
     "execution_count": 3,
     "metadata": {},
     "output_type": "execute_result"
    }
   ],
   "source": [
    "df = pd.read_csv(\"Exercise2/loans.csv\")\n",
    "df.columns"
   ]
  },
  {
   "cell_type": "code",
   "execution_count": 4,
   "metadata": {},
   "outputs": [
    {
     "data": {
      "text/plain": [
       "<bound method NDFrame.head of                                      Loan ID Loan Status  Current Loan Amount  \\\n",
       "0       14dd8831-6af5-400b-83ec-68e61888a048  Fully Paid             445412.0   \n",
       "1       4771cc26-131a-45db-b5aa-537ea4ba5342  Fully Paid             262328.0   \n",
       "2       4eed4e6a-aa2f-4c91-8651-ce984ee8fb26  Fully Paid           99999999.0   \n",
       "3       77598f7b-32e7-4e3b-a6e5-06ba0d98fe8a  Fully Paid             347666.0   \n",
       "4       d4062e70-befa-4995-8643-a0de73938182  Fully Paid             176220.0   \n",
       "...                                      ...         ...                  ...   \n",
       "100509                                   NaN         NaN                  NaN   \n",
       "100510                                   NaN         NaN                  NaN   \n",
       "100511                                   NaN         NaN                  NaN   \n",
       "100512                                   NaN         NaN                  NaN   \n",
       "100513                                   NaN         NaN                  NaN   \n",
       "\n",
       "              Term  Credit Score  Annual Income Years in current job  \\\n",
       "0       Short Term         709.0      1167493.0              8 years   \n",
       "1       Short Term           NaN            NaN            10+ years   \n",
       "2       Short Term         741.0      2231892.0              8 years   \n",
       "3        Long Term         721.0       806949.0              3 years   \n",
       "4       Short Term           NaN            NaN              5 years   \n",
       "...            ...           ...            ...                  ...   \n",
       "100509         NaN           NaN            NaN                  NaN   \n",
       "100510         NaN           NaN            NaN                  NaN   \n",
       "100511         NaN           NaN            NaN                  NaN   \n",
       "100512         NaN           NaN            NaN                  NaN   \n",
       "100513         NaN           NaN            NaN                  NaN   \n",
       "\n",
       "       Home Ownership             Purpose  Monthly Debt  \\\n",
       "0       Home Mortgage   Home Improvements       5214.74   \n",
       "1       Home Mortgage  Debt Consolidation      33295.98   \n",
       "2            Own Home  Debt Consolidation      29200.53   \n",
       "3            Own Home  Debt Consolidation       8741.90   \n",
       "4                Rent  Debt Consolidation      20639.70   \n",
       "...               ...                 ...           ...   \n",
       "100509            NaN                 NaN           NaN   \n",
       "100510            NaN                 NaN           NaN   \n",
       "100511            NaN                 NaN           NaN   \n",
       "100512            NaN                 NaN           NaN   \n",
       "100513            NaN                 NaN           NaN   \n",
       "\n",
       "        Years of Credit History  Months since last delinquent  \\\n",
       "0                          17.2                           NaN   \n",
       "1                          21.1                           8.0   \n",
       "2                          14.9                          29.0   \n",
       "3                          12.0                           NaN   \n",
       "4                           6.1                           NaN   \n",
       "...                         ...                           ...   \n",
       "100509                      NaN                           NaN   \n",
       "100510                      NaN                           NaN   \n",
       "100511                      NaN                           NaN   \n",
       "100512                      NaN                           NaN   \n",
       "100513                      NaN                           NaN   \n",
       "\n",
       "        Number of Open Accounts  Number of Credit Problems  \\\n",
       "0                           6.0                        1.0   \n",
       "1                          35.0                        0.0   \n",
       "2                          18.0                        1.0   \n",
       "3                           9.0                        0.0   \n",
       "4                          15.0                        0.0   \n",
       "...                         ...                        ...   \n",
       "100509                      NaN                        NaN   \n",
       "100510                      NaN                        NaN   \n",
       "100511                      NaN                        NaN   \n",
       "100512                      NaN                        NaN   \n",
       "100513                      NaN                        NaN   \n",
       "\n",
       "        Current Credit Balance  Maximum Open Credit  Bankruptcies  Tax Liens  \n",
       "0                     228190.0             416746.0           1.0        0.0  \n",
       "1                     229976.0             850784.0           0.0        0.0  \n",
       "2                     297996.0             750090.0           0.0        0.0  \n",
       "3                     256329.0             386958.0           0.0        0.0  \n",
       "4                     253460.0             427174.0           0.0        0.0  \n",
       "...                        ...                  ...           ...        ...  \n",
       "100509                     NaN                  NaN           NaN        NaN  \n",
       "100510                     NaN                  NaN           NaN        NaN  \n",
       "100511                     NaN                  NaN           NaN        NaN  \n",
       "100512                     NaN                  NaN           NaN        NaN  \n",
       "100513                     NaN                  NaN           NaN        NaN  \n",
       "\n",
       "[100514 rows x 18 columns]>"
      ]
     },
     "execution_count": 4,
     "metadata": {},
     "output_type": "execute_result"
    }
   ],
   "source": [
    "df = df.drop([\"Customer ID\"], axis=1)\n",
    "df.head"
   ]
  },
  {
   "cell_type": "markdown",
   "metadata": {},
   "source": [
    "##### Remove rows with loan amount >= 99999999\n",
    "##### Remove rows from 'Annual income' with NaN"
   ]
  },
  {
   "cell_type": "code",
   "execution_count": 5,
   "metadata": {},
   "outputs": [],
   "source": [
    "filter_df = df[df['Current Loan Amount'] < 99999999]\n",
    "df_dropna_AnnualIncome = filter_df['Annual Income'].dropna\n"
   ]
  },
  {
   "cell_type": "markdown",
   "metadata": {},
   "source": [
    "##### *Extra* Use average income as values instead of Nan"
   ]
  },
  {
   "cell_type": "code",
   "execution_count": 6,
   "metadata": {},
   "outputs": [
    {
     "name": "stderr",
     "output_type": "stream",
     "text": [
      "C:\\Users\\vmgem\\AppData\\Local\\Temp\\ipykernel_20204\\2240227758.py:1: SettingWithCopyWarning: \n",
      "A value is trying to be set on a copy of a slice from a DataFrame\n",
      "\n",
      "See the caveats in the documentation: https://pandas.pydata.org/pandas-docs/stable/user_guide/indexing.html#returning-a-view-versus-a-copy\n",
      "  filter_df['Annual Income'].fillna(filter_df['Annual Income'].mean(), inplace=True)\n"
     ]
    }
   ],
   "source": [
    "filter_df['Annual Income'].fillna(filter_df['Annual Income'].mean(), inplace=True)\n",
    "df = filter_df"
   ]
  },
  {
   "cell_type": "markdown",
   "metadata": {},
   "source": [
    "##### Get average Cureenct Loan Amount\n",
    "##### Highest and lowest Annual Income"
   ]
  },
  {
   "cell_type": "code",
   "execution_count": 8,
   "metadata": {},
   "outputs": [
    {
     "data": {
      "text/plain": [
       "491    Own Home\n",
       "Name: Home Ownership, dtype: object"
      ]
     },
     "execution_count": 8,
     "metadata": {},
     "output_type": "execute_result"
    }
   ],
   "source": [
    "mean_current_loan = df['Current Loan Amount'].mean()\n",
    "lowest_annual_income = df['Annual Income'].min()\n",
    "highest_annual_income = df['Annual Income'].max()\n",
    "home_owner_value = df[df['Loan ID'] == 'bbf87a87-22cd-4d10-bd9b-7a9cc1b6e59d']\n",
    "home_owner_value['Home Ownership']"
   ]
  },
  {
   "cell_type": "markdown",
   "metadata": {},
   "source": [
    "##### Create new field 'Actual Annual income'\n",
    "##### Get 'Actual Annual income' from ID"
   ]
  },
  {
   "cell_type": "code",
   "execution_count": 9,
   "metadata": {},
   "outputs": [
    {
     "name": "stderr",
     "output_type": "stream",
     "text": [
      "C:\\Users\\vmgem\\AppData\\Local\\Temp\\ipykernel_20204\\4016155025.py:1: SettingWithCopyWarning: \n",
      "A value is trying to be set on a copy of a slice from a DataFrame.\n",
      "Try using .loc[row_indexer,col_indexer] = value instead\n",
      "\n",
      "See the caveats in the documentation: https://pandas.pydata.org/pandas-docs/stable/user_guide/indexing.html#returning-a-view-versus-a-copy\n",
      "  df['Actual Annual Income'] = df['Monthly Debt'] * 12\n"
     ]
    },
    {
     "data": {
      "text/plain": [
       "109     254466.24\n",
       "2216    254466.24\n",
       "Name: Actual Annual Income, dtype: float64"
      ]
     },
     "execution_count": 9,
     "metadata": {},
     "output_type": "execute_result"
    }
   ],
   "source": [
    "df['Actual Annual Income'] = df['Monthly Debt'] * 12\n",
    "\n",
    "actual_annual_income = df[df['Loan ID'] == '76fa89b9-e6a8-49af-afa1-8151315aba8e']\n",
    "actual_annual_income['Actual Annual Income']"
   ]
  },
  {
   "cell_type": "markdown",
   "metadata": {},
   "source": [
    "#### Get Loan ID with small actual income"
   ]
  },
  {
   "cell_type": "code",
   "execution_count": 10,
   "metadata": {},
   "outputs": [
    {
     "data": {
      "text/plain": [
       "'da795dc7-9960-49d9-9ef4-94a28a51f168'"
      ]
     },
     "execution_count": 10,
     "metadata": {},
     "output_type": "execute_result"
    }
   ],
   "source": [
    "smallest_actual_income = df.loc[df['Actual Annual Income'].idxmin()]['Loan ID']\n",
    "smallest_actual_income"
   ]
  },
  {
   "cell_type": "code",
   "execution_count": 11,
   "metadata": {},
   "outputs": [
    {
     "data": {
      "text/plain": [
       "476"
      ]
     },
     "execution_count": 11,
     "metadata": {},
     "output_type": "execute_result"
    }
   ],
   "source": [
    "longterm_loans = df['Term'].value_counts()['Long Term']\n",
    "longterm_loans\n",
    "\n",
    "bankruptcies = df[df['Bankruptcies'] > 1]['Loan ID'].count()\n",
    "bankruptcies"
   ]
  },
  {
   "cell_type": "markdown",
   "metadata": {},
   "source": [
    "##### Number of short term loans for home improvement"
   ]
  },
  {
   "cell_type": "code",
   "execution_count": 28,
   "metadata": {},
   "outputs": [
    {
     "data": {
      "text/plain": [
       "3490"
      ]
     },
     "execution_count": 28,
     "metadata": {},
     "output_type": "execute_result"
    }
   ],
   "source": [
    "df.query(\"Term=='Short Term'\")[\"Purpose\"].value_counts()['Home Improvements']"
   ]
  },
  {
   "cell_type": "markdown",
   "metadata": {},
   "source": [
    "##### Number of unique loan purposes\n",
    "##### The most unique loan purpose"
   ]
  },
  {
   "cell_type": "code",
   "execution_count": 31,
   "metadata": {},
   "outputs": [
    {
     "data": {
      "text/plain": [
       "16"
      ]
     },
     "execution_count": 31,
     "metadata": {},
     "output_type": "execute_result"
    }
   ],
   "source": [
    "df['Purpose'].nunique()"
   ]
  },
  {
   "cell_type": "code",
   "execution_count": 53,
   "metadata": {},
   "outputs": [
    {
     "data": {
      "text/plain": [
       "Purpose\n",
       "Debt Consolidation    69506\n",
       "other                  5409\n",
       "Home Improvements      5124\n",
       "Name: count, dtype: int64"
      ]
     },
     "execution_count": 53,
     "metadata": {},
     "output_type": "execute_result"
    }
   ],
   "source": [
    "df['Purpose'].value_counts().head(3)"
   ]
  },
  {
   "cell_type": "code",
   "execution_count": 54,
   "metadata": {},
   "outputs": [],
   "source": [
    "# Correlations\n",
    "# There is a weak positive correlation between 'Annual income and number of open accounts'. This means an increase in annual income would result to a weak increase in openned accouns and vice versa. Thus there are other more significant factors to be considered.\n",
    "\n",
    "# There is as well a strong positive correlation between 'Number of credit problems and bankruptcies'. This means increase in credit problems would signifcantly translate to increase bankruptcy rate."
   ]
  },
  {
   "cell_type": "code",
   "execution_count": 55,
   "metadata": {},
   "outputs": [
    {
     "data": {
      "text/plain": [
       "0.12705769402525527"
      ]
     },
     "execution_count": 55,
     "metadata": {},
     "output_type": "execute_result"
    }
   ],
   "source": [
    "df['Annual Income'].corr(df['Number of Open Accounts'])"
   ]
  },
  {
   "cell_type": "code",
   "execution_count": 56,
   "metadata": {},
   "outputs": [
    {
     "data": {
      "text/plain": [
       "0.7507485199510444"
      ]
     },
     "execution_count": 56,
     "metadata": {},
     "output_type": "execute_result"
    }
   ],
   "source": [
    "df['Number of Credit Problems'].corr(df['Bankruptcies'])"
   ]
  },
  {
   "cell_type": "markdown",
   "metadata": {},
   "source": [
    "#####   Question 2:"
   ]
  },
  {
   "cell_type": "code",
   "execution_count": 57,
   "metadata": {},
   "outputs": [
    {
     "data": {
      "text/plain": [
       "Index(['Creation Date', 'Purchase Date', 'Fiscal Year', 'LPA Number',\n",
       "       'Purchase Order Number', 'Requisition Number', 'Acquisition Type',\n",
       "       'Acquisition Method', 'Department Name', 'Supplier Code',\n",
       "       'Supplier Name', 'Supplier Qualifications', 'Supplier Zip Code',\n",
       "       'CalCard', 'Item Name', 'Item Description', 'Quantity', 'Unit Price',\n",
       "       'Total Price', 'Classification Codes', 'Normalized UNSPSC',\n",
       "       'Commodity Title', 'Class', 'Class Title', 'Family', 'Family Title',\n",
       "       'Segment', 'Segment Title', 'Location'],\n",
       "      dtype='object')"
      ]
     },
     "execution_count": 57,
     "metadata": {},
     "output_type": "execute_result"
    }
   ],
   "source": [
    "# Question 2:\n",
    "\n",
    "df = pd.read_csv(\"Exercise2/purchases.csv\")\n",
    "df.columns"
   ]
  },
  {
   "cell_type": "code",
   "execution_count": 58,
   "metadata": {},
   "outputs": [
    {
     "data": {
      "text/plain": [
       "1245.0400000000002"
      ]
     },
     "execution_count": 58,
     "metadata": {},
     "output_type": "execute_result"
    }
   ],
   "source": [
    "total_price_sum = df[df['Purchase Order Number'] == '018H2015']\n",
    "total_price_sum['Total Price'].sum()"
   ]
  },
  {
   "cell_type": "code",
   "execution_count": 59,
   "metadata": {},
   "outputs": [
    {
     "data": {
      "text/plain": [
       "103    PC Desktop\n",
       "Name: Item Name, dtype: object"
      ]
     },
     "execution_count": 59,
     "metadata": {},
     "output_type": "execute_result"
    }
   ],
   "source": [
    "purchase_item = df[df['Purchase Order Number'] == '3176273']\n",
    "purchase_item['Item Name']"
   ]
  },
  {
   "cell_type": "code",
   "execution_count": 60,
   "metadata": {},
   "outputs": [
    {
     "data": {
      "text/plain": [
       "103    HP Prodesk 600\n",
       "Name: Item Description, dtype: object"
      ]
     },
     "execution_count": 60,
     "metadata": {},
     "output_type": "execute_result"
    }
   ],
   "source": [
    "purchase_item['Item Description']"
   ]
  },
  {
   "cell_type": "code",
   "execution_count": 61,
   "metadata": {},
   "outputs": [
    {
     "data": {
      "text/plain": [
       "<bound method DataFrame.count of Empty DataFrame\n",
       "Columns: [Creation Date, Purchase Date, Fiscal Year, LPA Number, Purchase Order Number, Requisition Number, Acquisition Type, Acquisition Method, Department Name, Supplier Code, Supplier Name, Supplier Qualifications, Supplier Zip Code, CalCard, Item Name, Item Description, Quantity, Unit Price, Total Price, Classification Codes, Normalized UNSPSC, Commodity Title, Class, Class Title, Family, Family Title, Segment, Segment Title, Location]\n",
       "Index: []\n",
       "\n",
       "[0 rows x 29 columns]>"
      ]
     },
     "execution_count": 61,
     "metadata": {},
     "output_type": "execute_result"
    }
   ],
   "source": [
    "purchase_data = df[df['Fiscal Year'] == '2013'].count\n",
    "purchase_data"
   ]
  },
  {
   "cell_type": "code",
   "execution_count": 62,
   "metadata": {},
   "outputs": [
    {
     "data": {
      "text/plain": [
       "Department Name\n",
       "Corrections and Rehabilitation, Department of    10891\n",
       "Correctional Health Care Services                 6593\n",
       "Water Resources, Department of                    4582\n",
       "Forestry and Fire Protection, Department of       4526\n",
       "State Hospitals, Department of                    4281\n",
       "Name: count, dtype: int64"
      ]
     },
     "execution_count": 62,
     "metadata": {},
     "output_type": "execute_result"
    }
   ],
   "source": [
    "#df['Department Name'].value_counts().nlargest(5)\n",
    "df['Department Name'].value_counts()[:5]"
   ]
  },
  {
   "cell_type": "code",
   "execution_count": 63,
   "metadata": {},
   "outputs": [
    {
     "data": {
      "text/plain": [
       "7480     Health Care Services, Department of\n",
       "45137           Public Health, Department of\n",
       "35511    Health Care Services, Department of\n",
       "Name: Department Name, dtype: object"
      ]
     },
     "execution_count": 63,
     "metadata": {},
     "output_type": "execute_result"
    }
   ],
   "source": [
    "df.nlargest(3, ['Total Price'])['Department Name']\n",
    "\n",
    "#df.loc[df['Total Price'].nlargest(3)]['Department Name']"
   ]
  },
  {
   "cell_type": "code",
   "execution_count": 64,
   "metadata": {},
   "outputs": [],
   "source": [
    "df_Department_name = df.sort_values('Department Name')"
   ]
  },
  {
   "cell_type": "markdown",
   "metadata": {},
   "source": [
    "##### Repalace $ and convert to float"
   ]
  },
  {
   "cell_type": "code",
   "execution_count": 65,
   "metadata": {},
   "outputs": [
    {
     "data": {
      "text/plain": [
       "<bound method NDFrame.head of 0            0.60\n",
       "1        12587.05\n",
       "2          199.00\n",
       "3            4.95\n",
       "4            1.00\n",
       "           ...   \n",
       "62652      100.50\n",
       "62653      245.00\n",
       "62654      245.00\n",
       "62655    20475.00\n",
       "62656     1181.44\n",
       "Name: Unit Price, Length: 62657, dtype: float64>"
      ]
     },
     "execution_count": 65,
     "metadata": {},
     "output_type": "execute_result"
    }
   ],
   "source": [
    "# Repalace $ and convert to float\n",
    "\n",
    "df['Unit Price'] = df['Unit Price'].replace({'\\$': '', ',': ''}, regex=True).astype(float)\n",
    "df['Unit Price'].head"
   ]
  },
  {
   "cell_type": "markdown",
   "metadata": {},
   "source": [
    "### Extra "
   ]
  },
  {
   "cell_type": "code",
   "execution_count": 66,
   "metadata": {},
   "outputs": [
    {
     "data": {
      "text/plain": [
       "(698, 29)"
      ]
     },
     "execution_count": 66,
     "metadata": {},
     "output_type": "execute_result"
    }
   ],
   "source": [
    "# Number of IT Goods with Total Price > 50000\n",
    "\n",
    "df.loc[(df['Acquisition Type'] == 'IT Goods')  & (df['Total Price'] > 50000)].shape"
   ]
  },
  {
   "cell_type": "code",
   "execution_count": 67,
   "metadata": {},
   "outputs": [
    {
     "data": {
      "text/plain": [
       "(9558, 29)"
      ]
     },
     "execution_count": 67,
     "metadata": {},
     "output_type": "execute_result"
    }
   ],
   "source": [
    "# number of Purchases related to IT.\n",
    "\n",
    "df.loc[df['Acquisition Type'].str.startswith('IT')].shape"
   ]
  },
  {
   "cell_type": "code",
   "execution_count": 68,
   "metadata": {},
   "outputs": [
    {
     "data": {
      "text/html": [
       "<div>\n",
       "<style scoped>\n",
       "    .dataframe tbody tr th:only-of-type {\n",
       "        vertical-align: middle;\n",
       "    }\n",
       "\n",
       "    .dataframe tbody tr th {\n",
       "        vertical-align: top;\n",
       "    }\n",
       "\n",
       "    .dataframe thead th {\n",
       "        text-align: right;\n",
       "    }\n",
       "</style>\n",
       "<table border=\"1\" class=\"dataframe\">\n",
       "  <thead>\n",
       "    <tr style=\"text-align: right;\">\n",
       "      <th></th>\n",
       "      <th>Creation Date</th>\n",
       "      <th>Purchase Date</th>\n",
       "      <th>Fiscal Year</th>\n",
       "      <th>LPA Number</th>\n",
       "      <th>Purchase Order Number</th>\n",
       "      <th>Requisition Number</th>\n",
       "      <th>Acquisition Type</th>\n",
       "      <th>Acquisition Method</th>\n",
       "      <th>Department Name</th>\n",
       "      <th>Supplier Code</th>\n",
       "      <th>...</th>\n",
       "      <th>Classification Codes</th>\n",
       "      <th>Normalized UNSPSC</th>\n",
       "      <th>Commodity Title</th>\n",
       "      <th>Class</th>\n",
       "      <th>Class Title</th>\n",
       "      <th>Family</th>\n",
       "      <th>Family Title</th>\n",
       "      <th>Segment</th>\n",
       "      <th>Segment Title</th>\n",
       "      <th>Location</th>\n",
       "    </tr>\n",
       "  </thead>\n",
       "  <tbody>\n",
       "    <tr>\n",
       "      <th>0</th>\n",
       "      <td>09/05/2012</td>\n",
       "      <td>08/31/2012</td>\n",
       "      <td>2012-2013</td>\n",
       "      <td>NaN</td>\n",
       "      <td>4500149558</td>\n",
       "      <td>NaN</td>\n",
       "      <td>NON-IT Goods</td>\n",
       "      <td>Formal Competitive</td>\n",
       "      <td>Corrections and Rehabilitation, Department of</td>\n",
       "      <td>48199.0</td>\n",
       "      <td>...</td>\n",
       "      <td>50405625</td>\n",
       "      <td>50405625.0</td>\n",
       "      <td>Jalapeno peppers</td>\n",
       "      <td>50405600.0</td>\n",
       "      <td>Peppers</td>\n",
       "      <td>50400000.0</td>\n",
       "      <td>Fresh vegetables</td>\n",
       "      <td>50000000.0</td>\n",
       "      <td>Food Beverage and Tobacco Products</td>\n",
       "      <td>93706\\n(36.675079, -119.865393)</td>\n",
       "    </tr>\n",
       "    <tr>\n",
       "      <th>1</th>\n",
       "      <td>10/18/2012</td>\n",
       "      <td>10/18/2012</td>\n",
       "      <td>2012-2013</td>\n",
       "      <td>NaN</td>\n",
       "      <td>4500156192</td>\n",
       "      <td>NaN</td>\n",
       "      <td>NON-IT Goods</td>\n",
       "      <td>Informal Competitive</td>\n",
       "      <td>Corrections and Rehabilitation, Department of</td>\n",
       "      <td>1327540.0</td>\n",
       "      <td>...</td>\n",
       "      <td>50301541</td>\n",
       "      <td>50301541.0</td>\n",
       "      <td>Ida red apples</td>\n",
       "      <td>50301500.0</td>\n",
       "      <td>Apples</td>\n",
       "      <td>50300000.0</td>\n",
       "      <td>Fresh fruits</td>\n",
       "      <td>50000000.0</td>\n",
       "      <td>Food Beverage and Tobacco Products</td>\n",
       "      <td>91360\\n(34.210392, -118.874313)</td>\n",
       "    </tr>\n",
       "    <tr>\n",
       "      <th>2</th>\n",
       "      <td>10/17/2012</td>\n",
       "      <td>10/17/2012</td>\n",
       "      <td>2012-2013</td>\n",
       "      <td>NaN</td>\n",
       "      <td>4500156124</td>\n",
       "      <td>NaN</td>\n",
       "      <td>NON-IT Goods</td>\n",
       "      <td>Fair and Reasonable</td>\n",
       "      <td>Correctional Health Care Services</td>\n",
       "      <td>45803.0</td>\n",
       "      <td>...</td>\n",
       "      <td>55101506</td>\n",
       "      <td>55101506.0</td>\n",
       "      <td>Magazines</td>\n",
       "      <td>55101500.0</td>\n",
       "      <td>Printed publications</td>\n",
       "      <td>55100000.0</td>\n",
       "      <td>Printed media</td>\n",
       "      <td>55000000.0</td>\n",
       "      <td>Published Products</td>\n",
       "      <td>95827\\n(38.563097, -121.328511)</td>\n",
       "    </tr>\n",
       "    <tr>\n",
       "      <th>3</th>\n",
       "      <td>10/30/2012</td>\n",
       "      <td>10/24/2012</td>\n",
       "      <td>2012-2013</td>\n",
       "      <td>NaN</td>\n",
       "      <td>S2556056</td>\n",
       "      <td>NaN</td>\n",
       "      <td>NON-IT Goods</td>\n",
       "      <td>Informal Competitive</td>\n",
       "      <td>Parks &amp; Recreation, Department of</td>\n",
       "      <td>1746707.0</td>\n",
       "      <td>...</td>\n",
       "      <td>10121505</td>\n",
       "      <td>10121505.0</td>\n",
       "      <td>Hay</td>\n",
       "      <td>10121500.0</td>\n",
       "      <td>Livestock feed</td>\n",
       "      <td>10120000.0</td>\n",
       "      <td>Animal feed</td>\n",
       "      <td>10000000.0</td>\n",
       "      <td>Live Plant and Animal Material and Accessories...</td>\n",
       "      <td>NaN</td>\n",
       "    </tr>\n",
       "    <tr>\n",
       "      <th>4</th>\n",
       "      <td>11/14/2012</td>\n",
       "      <td>11/14/2012</td>\n",
       "      <td>2012-2013</td>\n",
       "      <td>NaN</td>\n",
       "      <td>4500159228</td>\n",
       "      <td>NaN</td>\n",
       "      <td>NON-IT Goods</td>\n",
       "      <td>Informal Competitive</td>\n",
       "      <td>Corrections and Rehabilitation, Department of</td>\n",
       "      <td>1065902.0</td>\n",
       "      <td>...</td>\n",
       "      <td>50201706</td>\n",
       "      <td>50201706.0</td>\n",
       "      <td>Coffee</td>\n",
       "      <td>50201700.0</td>\n",
       "      <td>Coffee and tea</td>\n",
       "      <td>50200000.0</td>\n",
       "      <td>Beverages</td>\n",
       "      <td>50000000.0</td>\n",
       "      <td>Food Beverage and Tobacco Products</td>\n",
       "      <td>95696\\n(38.43, -122.02)</td>\n",
       "    </tr>\n",
       "    <tr>\n",
       "      <th>...</th>\n",
       "      <td>...</td>\n",
       "      <td>...</td>\n",
       "      <td>...</td>\n",
       "      <td>...</td>\n",
       "      <td>...</td>\n",
       "      <td>...</td>\n",
       "      <td>...</td>\n",
       "      <td>...</td>\n",
       "      <td>...</td>\n",
       "      <td>...</td>\n",
       "      <td>...</td>\n",
       "      <td>...</td>\n",
       "      <td>...</td>\n",
       "      <td>...</td>\n",
       "      <td>...</td>\n",
       "      <td>...</td>\n",
       "      <td>...</td>\n",
       "      <td>...</td>\n",
       "      <td>...</td>\n",
       "      <td>...</td>\n",
       "      <td>...</td>\n",
       "    </tr>\n",
       "    <tr>\n",
       "      <th>62652</th>\n",
       "      <td>08/22/2013</td>\n",
       "      <td>08/23/2013</td>\n",
       "      <td>2013-2014</td>\n",
       "      <td>1-10-75-60A</td>\n",
       "      <td>S3863002</td>\n",
       "      <td>NaN</td>\n",
       "      <td>NON-IT Goods</td>\n",
       "      <td>Statewide Contract</td>\n",
       "      <td>Parks &amp; Recreation, Department of</td>\n",
       "      <td>1087660.0</td>\n",
       "      <td>...</td>\n",
       "      <td>44103103</td>\n",
       "      <td>44103103.0</td>\n",
       "      <td>Printer or facsimile toner</td>\n",
       "      <td>44103100.0</td>\n",
       "      <td>Printer and facsimile and photocopier supplies</td>\n",
       "      <td>44100000.0</td>\n",
       "      <td>Office machines and their supplies and accesso...</td>\n",
       "      <td>44000000.0</td>\n",
       "      <td>Office Equipment and Accessories and Supplies</td>\n",
       "      <td>95814\\n(38.580427, -121.494396)</td>\n",
       "    </tr>\n",
       "    <tr>\n",
       "      <th>62653</th>\n",
       "      <td>08/22/2013</td>\n",
       "      <td>08/23/2013</td>\n",
       "      <td>2013-2014</td>\n",
       "      <td>1-10-75-60A</td>\n",
       "      <td>S3863002</td>\n",
       "      <td>NaN</td>\n",
       "      <td>NON-IT Goods</td>\n",
       "      <td>Statewide Contract</td>\n",
       "      <td>Parks &amp; Recreation, Department of</td>\n",
       "      <td>1087660.0</td>\n",
       "      <td>...</td>\n",
       "      <td>44103103</td>\n",
       "      <td>44103103.0</td>\n",
       "      <td>Printer or facsimile toner</td>\n",
       "      <td>44103100.0</td>\n",
       "      <td>Printer and facsimile and photocopier supplies</td>\n",
       "      <td>44100000.0</td>\n",
       "      <td>Office machines and their supplies and accesso...</td>\n",
       "      <td>44000000.0</td>\n",
       "      <td>Office Equipment and Accessories and Supplies</td>\n",
       "      <td>95814\\n(38.580427, -121.494396)</td>\n",
       "    </tr>\n",
       "    <tr>\n",
       "      <th>62654</th>\n",
       "      <td>08/22/2013</td>\n",
       "      <td>08/23/2013</td>\n",
       "      <td>2013-2014</td>\n",
       "      <td>1-10-75-60A</td>\n",
       "      <td>S3863002</td>\n",
       "      <td>NaN</td>\n",
       "      <td>NON-IT Goods</td>\n",
       "      <td>Statewide Contract</td>\n",
       "      <td>Parks &amp; Recreation, Department of</td>\n",
       "      <td>1087660.0</td>\n",
       "      <td>...</td>\n",
       "      <td>44103103</td>\n",
       "      <td>44103103.0</td>\n",
       "      <td>Printer or facsimile toner</td>\n",
       "      <td>44103100.0</td>\n",
       "      <td>Printer and facsimile and photocopier supplies</td>\n",
       "      <td>44100000.0</td>\n",
       "      <td>Office machines and their supplies and accesso...</td>\n",
       "      <td>44000000.0</td>\n",
       "      <td>Office Equipment and Accessories and Supplies</td>\n",
       "      <td>95814\\n(38.580427, -121.494396)</td>\n",
       "    </tr>\n",
       "    <tr>\n",
       "      <th>62655</th>\n",
       "      <td>08/24/2013</td>\n",
       "      <td>08/23/2013</td>\n",
       "      <td>2013-2014</td>\n",
       "      <td>NaN</td>\n",
       "      <td>2U3H1109</td>\n",
       "      <td>NaN</td>\n",
       "      <td>NON-IT Services</td>\n",
       "      <td>Emergency Purchase</td>\n",
       "      <td>Forestry and Fire Protection, Department of</td>\n",
       "      <td>1015235.0</td>\n",
       "      <td>...</td>\n",
       "      <td>76122402</td>\n",
       "      <td>76122402.0</td>\n",
       "      <td>Equipment usage fee</td>\n",
       "      <td>76122400.0</td>\n",
       "      <td>Refuse disposal and treatment fees</td>\n",
       "      <td>76120000.0</td>\n",
       "      <td>Refuse disposal and treatment</td>\n",
       "      <td>76000000.0</td>\n",
       "      <td>Industrial Cleaning Services</td>\n",
       "      <td>95901\\n(39.195356, -121.495425)</td>\n",
       "    </tr>\n",
       "    <tr>\n",
       "      <th>62656</th>\n",
       "      <td>08/23/2013</td>\n",
       "      <td>08/23/2013</td>\n",
       "      <td>2013-2014</td>\n",
       "      <td>NaN</td>\n",
       "      <td>4500195481</td>\n",
       "      <td>NaN</td>\n",
       "      <td>NON-IT Goods</td>\n",
       "      <td>Informal Competitive</td>\n",
       "      <td>Correctional Health Care Services</td>\n",
       "      <td>1763613.0</td>\n",
       "      <td>...</td>\n",
       "      <td>12161501</td>\n",
       "      <td>12161501.0</td>\n",
       "      <td>Affinity labels</td>\n",
       "      <td>12161500.0</td>\n",
       "      <td>Indicators and Reagents</td>\n",
       "      <td>12160000.0</td>\n",
       "      <td>Additives</td>\n",
       "      <td>12000000.0</td>\n",
       "      <td>Chemicals including Bio Chemicals and Gas Mate...</td>\n",
       "      <td>NaN</td>\n",
       "    </tr>\n",
       "  </tbody>\n",
       "</table>\n",
       "<p>61046 rows × 29 columns</p>\n",
       "</div>"
      ],
      "text/plain": [
       "      Creation Date Purchase Date Fiscal Year   LPA Number  \\\n",
       "0        09/05/2012    08/31/2012   2012-2013          NaN   \n",
       "1        10/18/2012    10/18/2012   2012-2013          NaN   \n",
       "2        10/17/2012    10/17/2012   2012-2013          NaN   \n",
       "3        10/30/2012    10/24/2012   2012-2013          NaN   \n",
       "4        11/14/2012    11/14/2012   2012-2013          NaN   \n",
       "...             ...           ...         ...          ...   \n",
       "62652    08/22/2013    08/23/2013   2013-2014  1-10-75-60A   \n",
       "62653    08/22/2013    08/23/2013   2013-2014  1-10-75-60A   \n",
       "62654    08/22/2013    08/23/2013   2013-2014  1-10-75-60A   \n",
       "62655    08/24/2013    08/23/2013   2013-2014          NaN   \n",
       "62656    08/23/2013    08/23/2013   2013-2014          NaN   \n",
       "\n",
       "      Purchase Order Number  Requisition Number Acquisition Type  \\\n",
       "0                4500149558                 NaN     NON-IT Goods   \n",
       "1                4500156192                 NaN     NON-IT Goods   \n",
       "2                4500156124                 NaN     NON-IT Goods   \n",
       "3                  S2556056                 NaN     NON-IT Goods   \n",
       "4                4500159228                 NaN     NON-IT Goods   \n",
       "...                     ...                 ...              ...   \n",
       "62652              S3863002                 NaN     NON-IT Goods   \n",
       "62653              S3863002                 NaN     NON-IT Goods   \n",
       "62654              S3863002                 NaN     NON-IT Goods   \n",
       "62655              2U3H1109                 NaN  NON-IT Services   \n",
       "62656            4500195481                 NaN     NON-IT Goods   \n",
       "\n",
       "         Acquisition Method                                Department Name  \\\n",
       "0        Formal Competitive  Corrections and Rehabilitation, Department of   \n",
       "1      Informal Competitive  Corrections and Rehabilitation, Department of   \n",
       "2       Fair and Reasonable              Correctional Health Care Services   \n",
       "3      Informal Competitive              Parks & Recreation, Department of   \n",
       "4      Informal Competitive  Corrections and Rehabilitation, Department of   \n",
       "...                     ...                                            ...   \n",
       "62652    Statewide Contract              Parks & Recreation, Department of   \n",
       "62653    Statewide Contract              Parks & Recreation, Department of   \n",
       "62654    Statewide Contract              Parks & Recreation, Department of   \n",
       "62655    Emergency Purchase    Forestry and Fire Protection, Department of   \n",
       "62656  Informal Competitive              Correctional Health Care Services   \n",
       "\n",
       "       Supplier Code  ... Classification Codes Normalized UNSPSC  \\\n",
       "0            48199.0  ...             50405625        50405625.0   \n",
       "1          1327540.0  ...             50301541        50301541.0   \n",
       "2            45803.0  ...             55101506        55101506.0   \n",
       "3          1746707.0  ...             10121505        10121505.0   \n",
       "4          1065902.0  ...             50201706        50201706.0   \n",
       "...              ...  ...                  ...               ...   \n",
       "62652      1087660.0  ...             44103103        44103103.0   \n",
       "62653      1087660.0  ...             44103103        44103103.0   \n",
       "62654      1087660.0  ...             44103103        44103103.0   \n",
       "62655      1015235.0  ...             76122402        76122402.0   \n",
       "62656      1763613.0  ...             12161501        12161501.0   \n",
       "\n",
       "                  Commodity Title       Class  \\\n",
       "0                Jalapeno peppers  50405600.0   \n",
       "1                  Ida red apples  50301500.0   \n",
       "2                       Magazines  55101500.0   \n",
       "3                             Hay  10121500.0   \n",
       "4                          Coffee  50201700.0   \n",
       "...                           ...         ...   \n",
       "62652  Printer or facsimile toner  44103100.0   \n",
       "62653  Printer or facsimile toner  44103100.0   \n",
       "62654  Printer or facsimile toner  44103100.0   \n",
       "62655         Equipment usage fee  76122400.0   \n",
       "62656             Affinity labels  12161500.0   \n",
       "\n",
       "                                          Class Title      Family  \\\n",
       "0                                             Peppers  50400000.0   \n",
       "1                                              Apples  50300000.0   \n",
       "2                                Printed publications  55100000.0   \n",
       "3                                      Livestock feed  10120000.0   \n",
       "4                                      Coffee and tea  50200000.0   \n",
       "...                                               ...         ...   \n",
       "62652  Printer and facsimile and photocopier supplies  44100000.0   \n",
       "62653  Printer and facsimile and photocopier supplies  44100000.0   \n",
       "62654  Printer and facsimile and photocopier supplies  44100000.0   \n",
       "62655              Refuse disposal and treatment fees  76120000.0   \n",
       "62656                         Indicators and Reagents  12160000.0   \n",
       "\n",
       "                                            Family Title     Segment  \\\n",
       "0                                       Fresh vegetables  50000000.0   \n",
       "1                                           Fresh fruits  50000000.0   \n",
       "2                                          Printed media  55000000.0   \n",
       "3                                            Animal feed  10000000.0   \n",
       "4                                              Beverages  50000000.0   \n",
       "...                                                  ...         ...   \n",
       "62652  Office machines and their supplies and accesso...  44000000.0   \n",
       "62653  Office machines and their supplies and accesso...  44000000.0   \n",
       "62654  Office machines and their supplies and accesso...  44000000.0   \n",
       "62655                      Refuse disposal and treatment  76000000.0   \n",
       "62656                                          Additives  12000000.0   \n",
       "\n",
       "                                           Segment Title  \\\n",
       "0                     Food Beverage and Tobacco Products   \n",
       "1                     Food Beverage and Tobacco Products   \n",
       "2                                     Published Products   \n",
       "3      Live Plant and Animal Material and Accessories...   \n",
       "4                     Food Beverage and Tobacco Products   \n",
       "...                                                  ...   \n",
       "62652      Office Equipment and Accessories and Supplies   \n",
       "62653      Office Equipment and Accessories and Supplies   \n",
       "62654      Office Equipment and Accessories and Supplies   \n",
       "62655                       Industrial Cleaning Services   \n",
       "62656  Chemicals including Bio Chemicals and Gas Mate...   \n",
       "\n",
       "                              Location  \n",
       "0      93706\\n(36.675079, -119.865393)  \n",
       "1      91360\\n(34.210392, -118.874313)  \n",
       "2      95827\\n(38.563097, -121.328511)  \n",
       "3                                  NaN  \n",
       "4              95696\\n(38.43, -122.02)  \n",
       "...                                ...  \n",
       "62652  95814\\n(38.580427, -121.494396)  \n",
       "62653  95814\\n(38.580427, -121.494396)  \n",
       "62654  95814\\n(38.580427, -121.494396)  \n",
       "62655  95901\\n(39.195356, -121.495425)  \n",
       "62656                              NaN  \n",
       "\n",
       "[61046 rows x 29 columns]"
      ]
     },
     "execution_count": 68,
     "metadata": {},
     "output_type": "execute_result"
    }
   ],
   "source": [
    "# Other extra\n",
    "# Dataframe with purchases =< 0.\n",
    "\n",
    "Total_Price_Plus = df[df['Total Price'] > 0]\n",
    "Total_Price_Plus"
   ]
  },
  {
   "cell_type": "code",
   "execution_count": 69,
   "metadata": {},
   "outputs": [
    {
     "data": {
      "text/plain": [
       "Acquisition Type\n",
       "IT Goods                   213676581\n",
       "IT Services               1156983637\n",
       "IT Telecommunications         307903\n",
       "NON-IT Goods              1034291622\n",
       "NON-IT Services          30564202787\n",
       "Name: Total Price, dtype: int64"
      ]
     },
     "execution_count": 69,
     "metadata": {},
     "output_type": "execute_result"
    }
   ],
   "source": [
    "# Total price sum and mean based on Acquisition type\n",
    "\n",
    "Price_sum = Total_Price_Plus.groupby('Acquisition Type')['Total Price'].sum().astype('int64')\n",
    "Price_sum"
   ]
  },
  {
   "cell_type": "code",
   "execution_count": 70,
   "metadata": {},
   "outputs": [
    {
     "data": {
      "text/plain": [
       "Acquisition Type\n",
       "IT Goods                   28953\n",
       "IT Services               682989\n",
       "IT Telecommunications      51317\n",
       "NON-IT Goods               26087\n",
       "NON-IT Services          2481062\n",
       "Name: Total Price, dtype: int64"
      ]
     },
     "execution_count": 70,
     "metadata": {},
     "output_type": "execute_result"
    }
   ],
   "source": [
    "Price_mean = Total_Price_Plus.groupby('Acquisition Type')['Total Price'].mean().astype('int64')\n",
    "Price_mean"
   ]
  },
  {
   "cell_type": "code",
   "execution_count": 71,
   "metadata": {},
   "outputs": [
    {
     "data": {
      "text/plain": [
       "Acquisition Type\n",
       "NON-IT Services    30564202787\n",
       "IT Services         1156983637\n",
       "Name: Total Price, dtype: int64"
      ]
     },
     "execution_count": 71,
     "metadata": {},
     "output_type": "execute_result"
    }
   ],
   "source": [
    "# Acquisition type with largest sum\n",
    "\n",
    "Price_sum_largest = Total_Price_Plus.groupby('Acquisition Type')['Total Price'].sum().astype('int64').nlargest(2)\n",
    "Price_sum_largest"
   ]
  },
  {
   "cell_type": "code",
   "execution_count": 72,
   "metadata": {},
   "outputs": [
    {
     "data": {
      "text/plain": [
       "Acquisition Type\n",
       "NON-IT Services    2481062\n",
       "IT Services         682989\n",
       "Name: Total Price, dtype: int64"
      ]
     },
     "execution_count": 72,
     "metadata": {},
     "output_type": "execute_result"
    }
   ],
   "source": [
    "# Acquisition type with largest mean\n",
    "\n",
    "Price_mean_largest = Total_Price_Plus.groupby('Acquisition Type')['Total Price'].mean().astype('int64').nlargest(2)\n",
    "Price_mean_largest"
   ]
  },
  {
   "cell_type": "markdown",
   "metadata": {},
   "source": [
    "#####  Question 3"
   ]
  },
  {
   "cell_type": "code",
   "execution_count": 76,
   "metadata": {},
   "outputs": [],
   "source": [
    "# Question 3\n",
    "\n",
    "df = pd.read_csv(\"Exercise2/data_salaries_india.csv\")\n",
    "#df.head"
   ]
  },
  {
   "cell_type": "code",
   "execution_count": 77,
   "metadata": {},
   "outputs": [],
   "source": [
    "# To clean the data by remocing the Indian rupee sign and '/yr' string attached\n",
    "# Next I drop the original column 'Salary' with included the unwanted signs\n",
    "\n",
    "df['Yearly Salary'] = df['Salary'].replace({'₹': '', '/yr': '', ',': ''}, regex=True).astype(float)\n",
    "df = df.drop('Salary', axis=1)"
   ]
  },
  {
   "cell_type": "code",
   "execution_count": 78,
   "metadata": {},
   "outputs": [
    {
     "data": {
      "text/html": [
       "<div>\n",
       "<style scoped>\n",
       "    .dataframe tbody tr th:only-of-type {\n",
       "        vertical-align: middle;\n",
       "    }\n",
       "\n",
       "    .dataframe tbody tr th {\n",
       "        vertical-align: top;\n",
       "    }\n",
       "\n",
       "    .dataframe thead th {\n",
       "        text-align: right;\n",
       "    }\n",
       "</style>\n",
       "<table border=\"1\" class=\"dataframe\">\n",
       "  <thead>\n",
       "    <tr style=\"text-align: right;\">\n",
       "      <th></th>\n",
       "      <th>count</th>\n",
       "    </tr>\n",
       "    <tr>\n",
       "      <th>Job Title</th>\n",
       "      <th></th>\n",
       "    </tr>\n",
       "  </thead>\n",
       "  <tbody>\n",
       "    <tr>\n",
       "      <th>Data Scientist</th>\n",
       "      <td>2165</td>\n",
       "    </tr>\n",
       "    <tr>\n",
       "      <th>Data Analyst</th>\n",
       "      <td>1167</td>\n",
       "    </tr>\n",
       "    <tr>\n",
       "      <th>Data Engineer</th>\n",
       "      <td>948</td>\n",
       "    </tr>\n",
       "    <tr>\n",
       "      <th>Machine Learning Engineer</th>\n",
       "      <td>683</td>\n",
       "    </tr>\n",
       "    <tr>\n",
       "      <th>Data Science</th>\n",
       "      <td>54</td>\n",
       "    </tr>\n",
       "  </tbody>\n",
       "</table>\n",
       "</div>"
      ],
      "text/plain": [
       "                           count\n",
       "Job Title                       \n",
       "Data Scientist              2165\n",
       "Data Analyst                1167\n",
       "Data Engineer                948\n",
       "Machine Learning Engineer    683\n",
       "Data Science                  54"
      ]
     },
     "execution_count": 78,
     "metadata": {},
     "output_type": "execute_result"
    }
   ],
   "source": [
    "# Most common values in 'Job Title', 'Companies', 'Location'\n",
    "\n",
    "df['Job Title'].value_counts().nlargest().to_frame()"
   ]
  },
  {
   "cell_type": "code",
   "execution_count": 79,
   "metadata": {},
   "outputs": [
    {
     "data": {
      "text/html": [
       "<div>\n",
       "<style scoped>\n",
       "    .dataframe tbody tr th:only-of-type {\n",
       "        vertical-align: middle;\n",
       "    }\n",
       "\n",
       "    .dataframe tbody tr th {\n",
       "        vertical-align: top;\n",
       "    }\n",
       "\n",
       "    .dataframe thead th {\n",
       "        text-align: right;\n",
       "    }\n",
       "</style>\n",
       "<table border=\"1\" class=\"dataframe\">\n",
       "  <thead>\n",
       "    <tr style=\"text-align: right;\">\n",
       "      <th></th>\n",
       "      <th>count</th>\n",
       "    </tr>\n",
       "    <tr>\n",
       "      <th>Company Name</th>\n",
       "      <th></th>\n",
       "    </tr>\n",
       "  </thead>\n",
       "  <tbody>\n",
       "    <tr>\n",
       "      <th>Tata Consultancy Services</th>\n",
       "      <td>51</td>\n",
       "    </tr>\n",
       "    <tr>\n",
       "      <th>Accenture</th>\n",
       "      <td>39</td>\n",
       "    </tr>\n",
       "    <tr>\n",
       "      <th>Amazon</th>\n",
       "      <td>35</td>\n",
       "    </tr>\n",
       "    <tr>\n",
       "      <th>Fresher</th>\n",
       "      <td>31</td>\n",
       "    </tr>\n",
       "    <tr>\n",
       "      <th>First Student</th>\n",
       "      <td>30</td>\n",
       "    </tr>\n",
       "  </tbody>\n",
       "</table>\n",
       "</div>"
      ],
      "text/plain": [
       "                           count\n",
       "Company Name                    \n",
       "Tata Consultancy Services     51\n",
       "Accenture                     39\n",
       "Amazon                        35\n",
       "Fresher                       31\n",
       "First Student                 30"
      ]
     },
     "execution_count": 79,
     "metadata": {},
     "output_type": "execute_result"
    }
   ],
   "source": [
    "df['Company Name'].value_counts().nlargest()[:30].to_frame()"
   ]
  },
  {
   "cell_type": "code",
   "execution_count": 80,
   "metadata": {},
   "outputs": [
    {
     "data": {
      "text/html": [
       "<div>\n",
       "<style scoped>\n",
       "    .dataframe tbody tr th:only-of-type {\n",
       "        vertical-align: middle;\n",
       "    }\n",
       "\n",
       "    .dataframe tbody tr th {\n",
       "        vertical-align: top;\n",
       "    }\n",
       "\n",
       "    .dataframe thead th {\n",
       "        text-align: right;\n",
       "    }\n",
       "</style>\n",
       "<table border=\"1\" class=\"dataframe\">\n",
       "  <thead>\n",
       "    <tr style=\"text-align: right;\">\n",
       "      <th></th>\n",
       "      <th>count</th>\n",
       "    </tr>\n",
       "    <tr>\n",
       "      <th>Location</th>\n",
       "      <th></th>\n",
       "    </tr>\n",
       "  </thead>\n",
       "  <tbody>\n",
       "    <tr>\n",
       "      <th>Bangalore</th>\n",
       "      <td>1858</td>\n",
       "    </tr>\n",
       "    <tr>\n",
       "      <th>Pune</th>\n",
       "      <td>966</td>\n",
       "    </tr>\n",
       "    <tr>\n",
       "      <th>Hyderabad</th>\n",
       "      <td>786</td>\n",
       "    </tr>\n",
       "    <tr>\n",
       "      <th>New Delhi</th>\n",
       "      <td>781</td>\n",
       "    </tr>\n",
       "    <tr>\n",
       "      <th>Mumbai</th>\n",
       "      <td>736</td>\n",
       "    </tr>\n",
       "  </tbody>\n",
       "</table>\n",
       "</div>"
      ],
      "text/plain": [
       "           count\n",
       "Location        \n",
       "Bangalore   1858\n",
       "Pune         966\n",
       "Hyderabad    786\n",
       "New Delhi    781\n",
       "Mumbai       736"
      ]
     },
     "execution_count": 80,
     "metadata": {},
     "output_type": "execute_result"
    }
   ],
   "source": [
    "df['Location'].value_counts().nlargest().to_frame()"
   ]
  },
  {
   "cell_type": "code",
   "execution_count": 81,
   "metadata": {},
   "outputs": [],
   "source": [
    "# Data is said to be imbalance when it has highly asymmetric distribution. That is, there is very high frequency for few variables, with others seen as statistically minor.\n",
    "# In an imbalanced dataset for training for example, one or few buckets make up a large portion of the training dataset. With respect to our dataset, it is not balance because 'Data analysts and Data scientist account for over 60% of 'Job titles'."
   ]
  },
  {
   "cell_type": "markdown",
   "metadata": {},
   "source": [
    "##### Extra"
   ]
  },
  {
   "cell_type": "code",
   "execution_count": 104,
   "metadata": {},
   "outputs": [
    {
     "data": {
      "text/html": [
       "<div>\n",
       "<style scoped>\n",
       "    .dataframe tbody tr th:only-of-type {\n",
       "        vertical-align: middle;\n",
       "    }\n",
       "\n",
       "    .dataframe tbody tr th {\n",
       "        vertical-align: top;\n",
       "    }\n",
       "\n",
       "    .dataframe thead th {\n",
       "        text-align: right;\n",
       "    }\n",
       "</style>\n",
       "<table border=\"1\" class=\"dataframe\">\n",
       "  <thead>\n",
       "    <tr style=\"text-align: right;\">\n",
       "      <th></th>\n",
       "      <th>Company Name</th>\n",
       "      <th>Job Title</th>\n",
       "      <th>Role</th>\n",
       "      <th>Salaries Reported</th>\n",
       "      <th>Location</th>\n",
       "      <th>Yearly Salary</th>\n",
       "      <th>Manager Role</th>\n",
       "    </tr>\n",
       "  </thead>\n",
       "  <tbody>\n",
       "    <tr>\n",
       "      <th>236</th>\n",
       "      <td>Amazon</td>\n",
       "      <td>Machine Learning Data Associate II</td>\n",
       "      <td>Specialist</td>\n",
       "      <td>5</td>\n",
       "      <td>Hyderabad</td>\n",
       "      <td>383213.0</td>\n",
       "      <td>0</td>\n",
       "    </tr>\n",
       "    <tr>\n",
       "      <th>689</th>\n",
       "      <td>Amazon</td>\n",
       "      <td>Machine Learning Data Associate</td>\n",
       "      <td>Specialist</td>\n",
       "      <td>38</td>\n",
       "      <td>Hyderabad</td>\n",
       "      <td>275841.0</td>\n",
       "      <td>0</td>\n",
       "    </tr>\n",
       "    <tr>\n",
       "      <th>1681</th>\n",
       "      <td>Amazon</td>\n",
       "      <td>Machine Learning Data Associate II</td>\n",
       "      <td>Specialist</td>\n",
       "      <td>1</td>\n",
       "      <td>New Delhi</td>\n",
       "      <td>329439.0</td>\n",
       "      <td>0</td>\n",
       "    </tr>\n",
       "    <tr>\n",
       "      <th>3543</th>\n",
       "      <td>Amazon</td>\n",
       "      <td>Machine Learning Data Associate I</td>\n",
       "      <td>Specialist</td>\n",
       "      <td>9</td>\n",
       "      <td>Hyderabad</td>\n",
       "      <td>258596.0</td>\n",
       "      <td>0</td>\n",
       "    </tr>\n",
       "  </tbody>\n",
       "</table>\n",
       "</div>"
      ],
      "text/plain": [
       "     Company Name                           Job Title        Role  \\\n",
       "236        Amazon  Machine Learning Data Associate II  Specialist   \n",
       "689        Amazon     Machine Learning Data Associate  Specialist   \n",
       "1681       Amazon  Machine Learning Data Associate II  Specialist   \n",
       "3543       Amazon   Machine Learning Data Associate I  Specialist   \n",
       "\n",
       "      Salaries Reported   Location  Yearly Salary  Manager Role  \n",
       "236                   5  Hyderabad       383213.0             0  \n",
       "689                  38  Hyderabad       275841.0             0  \n",
       "1681                  1  New Delhi       329439.0             0  \n",
       "3543                  9  Hyderabad       258596.0             0  "
      ]
     },
     "execution_count": 104,
     "metadata": {},
     "output_type": "execute_result"
    }
   ],
   "source": [
    "# Combining job titles which are almost thesame\n",
    "df.loc[df['Job Title'].str.startswith('Machine Learning Data As')]"
   ]
  },
  {
   "cell_type": "code",
   "execution_count": 105,
   "metadata": {},
   "outputs": [
    {
     "data": {
      "text/plain": [
       "Index(['Company Name', 'Job Title', 'Role', 'Salaries Reported', 'Location',\n",
       "       'Yearly Salary', 'Manager Role'],\n",
       "      dtype='object')"
      ]
     },
     "execution_count": 105,
     "metadata": {},
     "output_type": "execute_result"
    }
   ],
   "source": [
    "df.columns"
   ]
  },
  {
   "cell_type": "code",
   "execution_count": 118,
   "metadata": {},
   "outputs": [
    {
     "data": {
      "text/plain": [
       "<bound method DataFrame.reset_index of                                                                                Company Name  \\\n",
       "Job Title                                                                                     \n",
       "Associate Machine Learning Engineer                                             Techolution   \n",
       "CEO                                                                                Mindtree   \n",
       "Data Analyst                              Michelin,WebDirekt,Accentue,CBRE,Prithvi Nath,...   \n",
       "Data Engineer                             Q3 Technologies,Michelin,Kagool,Software Data ...   \n",
       "Data Science                              Sciffer Analytics,Unscrambl,Ecozen Solutions,S...   \n",
       "Data Science Associate                                                        ZS Associates   \n",
       "Data Science Consultant                                                       ZS Associates   \n",
       "Data Science Lead                                                              Schlumberger   \n",
       "Data Science Manager                                                          ZS Associates   \n",
       "Data Scientist                            Wave Infosoft,Invendis Technologies India,Vert...   \n",
       "Data Scientist - Trainee                                                            Abzooba   \n",
       "Junior Data Scientist                     Innomatics Research Labs,GeoSpoc,Artificial Br...   \n",
       "Lead Data Scientist                       BNY Mellon,Zensar Technologies,Wipro,ADP,Accen...   \n",
       "Machine Learning Associate                                                           Amazon   \n",
       "Machine Learning Consultant                                           Extend Future,Infosys   \n",
       "Machine Learning Data Analyst                                                        Amazon   \n",
       "Machine Learning Data Associate                                                      Amazon   \n",
       "Machine Learning Data Associate I                                                    Amazon   \n",
       "Machine Learning Data Associate II                                                   Amazon   \n",
       "Machine Learning Developer                                   Decimal Point Analytics,MyWays   \n",
       "Machine Learning Engineer                 Unknowns,InfinityLabs,difference-engine.ai,Ora...   \n",
       "Machine Learning Engineer/Data Scientist                                    Unknown Company   \n",
       "Machine Learning Scientist                                       TaiyōAI,Myraa Technologies   \n",
       "Machine Learning Software Engineer                                 ThinkBumblebee Analytics   \n",
       "National Director                                                                    Amazon   \n",
       "Senior Data Scientist                     Vodafone,Tata Consultancy Services,XPO Logisti...   \n",
       "Senior Machine Learning Engineer          Aditya Birla Group,Optum,CognitiveScale,Techol...   \n",
       "Software Engineer - Machine Learning                         Market Pulse Technologies,HSBC   \n",
       "\n",
       "                                                        Role  \\\n",
       "Job Title                                                      \n",
       "Associate Machine Learning Engineer               Specialist   \n",
       "CEO                                                  Manager   \n",
       "Data Analyst                              Specialist,Manager   \n",
       "Data Engineer                             Specialist,Manager   \n",
       "Data Science                              Specialist,Manager   \n",
       "Data Science Associate                            Specialist   \n",
       "Data Science Consultant                           Specialist   \n",
       "Data Science Lead                                 Specialist   \n",
       "Data Science Manager                              Specialist   \n",
       "Data Scientist                            Specialist,Manager   \n",
       "Data Scientist - Trainee                  Specialist,Manager   \n",
       "Junior Data Scientist                     Specialist,Manager   \n",
       "Lead Data Scientist                               Specialist   \n",
       "Machine Learning Associate                        Specialist   \n",
       "Machine Learning Consultant                       Specialist   \n",
       "Machine Learning Data Analyst                     Specialist   \n",
       "Machine Learning Data Associate                   Specialist   \n",
       "Machine Learning Data Associate I                 Specialist   \n",
       "Machine Learning Data Associate II                Specialist   \n",
       "Machine Learning Developer                        Specialist   \n",
       "Machine Learning Engineer                 Specialist,Manager   \n",
       "Machine Learning Engineer/Data Scientist  Specialist,Manager   \n",
       "Machine Learning Scientist                        Specialist   \n",
       "Machine Learning Software Engineer                Specialist   \n",
       "National Director                                    Manager   \n",
       "Senior Data Scientist                     Specialist,Manager   \n",
       "Senior Machine Learning Engineer          Specialist,Manager   \n",
       "Software Engineer - Machine Learning      Specialist,Manager   \n",
       "\n",
       "                                          Salaries Reported  \\\n",
       "Job Title                                                     \n",
       "Associate Machine Learning Engineer                3.000000   \n",
       "CEO                                                1.000000   \n",
       "Data Analyst                                       4.051414   \n",
       "Data Engineer                                      2.433544   \n",
       "Data Science                                       1.129630   \n",
       "Data Science Associate                             9.000000   \n",
       "Data Science Consultant                            5.000000   \n",
       "Data Science Lead                                  2.000000   \n",
       "Data Science Manager                               2.000000   \n",
       "Data Scientist                                     2.218014   \n",
       "Data Scientist - Trainee                           1.500000   \n",
       "Junior Data Scientist                              1.090909   \n",
       "Lead Data Scientist                                1.333333   \n",
       "Machine Learning Associate                         6.000000   \n",
       "Machine Learning Consultant                        1.000000   \n",
       "Machine Learning Data Analyst                      3.000000   \n",
       "Machine Learning Data Associate                   38.000000   \n",
       "Machine Learning Data Associate I                  9.000000   \n",
       "Machine Learning Data Associate II                 3.000000   \n",
       "Machine Learning Developer                         1.000000   \n",
       "Machine Learning Engineer                          1.389458   \n",
       "Machine Learning Engineer/Data Scientist           1.000000   \n",
       "Machine Learning Scientist                         1.000000   \n",
       "Machine Learning Software Engineer                 1.000000   \n",
       "National Director                                  1.000000   \n",
       "Senior Data Scientist                              1.200000   \n",
       "Senior Machine Learning Engineer                   2.500000   \n",
       "Software Engineer - Machine Learning               1.000000   \n",
       "\n",
       "                                                                           Location  \\\n",
       "Job Title                                                                             \n",
       "Associate Machine Learning Engineer                                       Hyderabad   \n",
       "CEO                                                                       Bangalore   \n",
       "Data Analyst                              Mumbai,Hyderabad,Pune,New Delhi,Bangalore   \n",
       "Data Engineer                             Mumbai,Hyderabad,Pune,New Delhi,Bangalore   \n",
       "Data Science                                                                   Pune   \n",
       "Data Science Associate                                                         Pune   \n",
       "Data Science Consultant                                                        Pune   \n",
       "Data Science Lead                                                              Pune   \n",
       "Data Science Manager                                                           Pune   \n",
       "Data Scientist                            Mumbai,Hyderabad,Pune,New Delhi,Bangalore   \n",
       "Data Scientist - Trainee                                                       Pune   \n",
       "Junior Data Scientist                                                          Pune   \n",
       "Lead Data Scientist                                                            Pune   \n",
       "Machine Learning Associate                                                Hyderabad   \n",
       "Machine Learning Consultant                                                    Pune   \n",
       "Machine Learning Data Analyst                                             Hyderabad   \n",
       "Machine Learning Data Associate                                           Hyderabad   \n",
       "Machine Learning Data Associate I                                         Hyderabad   \n",
       "Machine Learning Data Associate II                              Hyderabad,New Delhi   \n",
       "Machine Learning Developer                                                   Mumbai   \n",
       "Machine Learning Engineer                 Mumbai,Hyderabad,Pune,New Delhi,Bangalore   \n",
       "Machine Learning Engineer/Data Scientist                                       Pune   \n",
       "Machine Learning Scientist                                                   Mumbai   \n",
       "Machine Learning Software Engineer                                             Pune   \n",
       "National Director                                                         Bangalore   \n",
       "Senior Data Scientist                                                          Pune   \n",
       "Senior Machine Learning Engineer                                   Mumbai,Hyderabad   \n",
       "Software Engineer - Machine Learning                                    Mumbai,Pune   \n",
       "\n",
       "                                          Yearly Salary  \n",
       "Job Title                                                \n",
       "Associate Machine Learning Engineer        4.643720e+05  \n",
       "CEO                                        7.444533e+07  \n",
       "Data Analyst                               7.543779e+05  \n",
       "Data Engineer                              1.230734e+06  \n",
       "Data Science                               4.674097e+05  \n",
       "Data Science Associate                     1.203913e+06  \n",
       "Data Science Consultant                    2.671464e+06  \n",
       "Data Science Lead                          4.068310e+06  \n",
       "Data Science Manager                       4.619021e+06  \n",
       "Data Scientist                             1.502054e+06  \n",
       "Data Scientist - Trainee                   1.338706e+06  \n",
       "Junior Data Scientist                      8.667148e+05  \n",
       "Lead Data Scientist                        1.852189e+06  \n",
       "Machine Learning Associate                 2.951140e+05  \n",
       "Machine Learning Consultant                7.064010e+05  \n",
       "Machine Learning Data Analyst              3.613780e+05  \n",
       "Machine Learning Data Associate            2.758410e+05  \n",
       "Machine Learning Data Associate I          2.585960e+05  \n",
       "Machine Learning Data Associate II         3.563260e+05  \n",
       "Machine Learning Developer                 5.811190e+05  \n",
       "Machine Learning Engineer                  1.041159e+06  \n",
       "Machine Learning Engineer/Data Scientist   1.575782e+06  \n",
       "Machine Learning Scientist                 1.701180e+05  \n",
       "Machine Learning Software Engineer         1.397347e+06  \n",
       "National Director                          3.579195e+07  \n",
       "Senior Data Scientist                      2.054160e+06  \n",
       "Senior Machine Learning Engineer           1.711217e+06  \n",
       "Software Engineer - Machine Learning       2.984858e+06  >"
      ]
     },
     "execution_count": 118,
     "metadata": {},
     "output_type": "execute_result"
    }
   ],
   "source": [
    "def join_unique(items):\n",
    "    return ','.join(set(items))\n",
    "\n",
    "df_joined = df.groupby(['Job Title']).agg({'Company Name': join_unique, 'Role': join_unique, 'Salaries Reported': 'mean', 'Location': join_unique, 'Yearly Salary': 'mean'}).reset_index\n",
    "df_joined"
   ]
  },
  {
   "cell_type": "code",
   "execution_count": 83,
   "metadata": {},
   "outputs": [
    {
     "data": {
      "text/html": [
       "<div>\n",
       "<style scoped>\n",
       "    .dataframe tbody tr th:only-of-type {\n",
       "        vertical-align: middle;\n",
       "    }\n",
       "\n",
       "    .dataframe tbody tr th {\n",
       "        vertical-align: top;\n",
       "    }\n",
       "\n",
       "    .dataframe thead th {\n",
       "        text-align: right;\n",
       "    }\n",
       "</style>\n",
       "<table border=\"1\" class=\"dataframe\">\n",
       "  <thead>\n",
       "    <tr style=\"text-align: right;\">\n",
       "      <th></th>\n",
       "      <th>Company Name</th>\n",
       "      <th>Job Title</th>\n",
       "      <th>Role</th>\n",
       "      <th>Salaries Reported</th>\n",
       "      <th>Location</th>\n",
       "      <th>Yearly Salary</th>\n",
       "    </tr>\n",
       "  </thead>\n",
       "  <tbody>\n",
       "    <tr>\n",
       "      <th>236</th>\n",
       "      <td>Amazon</td>\n",
       "      <td>Machine Learning Data Associate II</td>\n",
       "      <td>Specialist</td>\n",
       "      <td>5</td>\n",
       "      <td>Hyderabad</td>\n",
       "      <td>383213.0</td>\n",
       "    </tr>\n",
       "    <tr>\n",
       "      <th>689</th>\n",
       "      <td>Amazon</td>\n",
       "      <td>Machine Learning Data Associate</td>\n",
       "      <td>Specialist</td>\n",
       "      <td>38</td>\n",
       "      <td>Hyderabad</td>\n",
       "      <td>275841.0</td>\n",
       "    </tr>\n",
       "    <tr>\n",
       "      <th>1681</th>\n",
       "      <td>Amazon</td>\n",
       "      <td>Machine Learning Data Associate II</td>\n",
       "      <td>Specialist</td>\n",
       "      <td>1</td>\n",
       "      <td>New Delhi</td>\n",
       "      <td>329439.0</td>\n",
       "    </tr>\n",
       "    <tr>\n",
       "      <th>3543</th>\n",
       "      <td>Amazon</td>\n",
       "      <td>Machine Learning Data Associate I</td>\n",
       "      <td>Specialist</td>\n",
       "      <td>9</td>\n",
       "      <td>Hyderabad</td>\n",
       "      <td>258596.0</td>\n",
       "    </tr>\n",
       "  </tbody>\n",
       "</table>\n",
       "</div>"
      ],
      "text/plain": [
       "     Company Name                           Job Title        Role  \\\n",
       "236        Amazon  Machine Learning Data Associate II  Specialist   \n",
       "689        Amazon     Machine Learning Data Associate  Specialist   \n",
       "1681       Amazon  Machine Learning Data Associate II  Specialist   \n",
       "3543       Amazon   Machine Learning Data Associate I  Specialist   \n",
       "\n",
       "      Salaries Reported   Location  Yearly Salary  \n",
       "236                   5  Hyderabad       383213.0  \n",
       "689                  38  Hyderabad       275841.0  \n",
       "1681                  1  New Delhi       329439.0  \n",
       "3543                  9  Hyderabad       258596.0  "
      ]
     },
     "execution_count": 83,
     "metadata": {},
     "output_type": "execute_result"
    }
   ],
   "source": [
    "#agg_title = {'Job Title': 'Machine Learning Data ASS%', 'Salaries Reported': 'sum', }\n",
    "df.loc[df['Job Title'].str.startswith('Machine Learning Data As')]\n",
    "\n",
    "#create new DataFrame by combining rows with same id values\n",
    "#df_new = df.groupby(df['Job Title']).aggregate(agg_title)"
   ]
  },
  {
   "cell_type": "code",
   "execution_count": 120,
   "metadata": {},
   "outputs": [
    {
     "ename": "TypeError",
     "evalue": "unsupported operand type(s) for &: 'function' and 'list'",
     "output_type": "error",
     "traceback": [
      "\u001b[1;31m---------------------------------------------------------------------------\u001b[0m",
      "\u001b[1;31mTypeError\u001b[0m                                 Traceback (most recent call last)",
      "Cell \u001b[1;32mIn[120], line 11\u001b[0m\n\u001b[0;32m      8\u001b[0m     \u001b[38;5;28;01mif\u001b[39;00m df[\u001b[38;5;124m'\u001b[39m\u001b[38;5;124mJob Title\u001b[39m\u001b[38;5;124m'\u001b[39m] \u001b[38;5;241m==\u001b[39m \u001b[38;5;124m'\u001b[39m\u001b[38;5;124mMachine Learning Associate\u001b[39m\u001b[38;5;124m'\u001b[39m:\n\u001b[0;32m      9\u001b[0m         \u001b[38;5;28;01mreturn\u001b[39;00m \u001b[38;5;124m'\u001b[39m\u001b[38;5;124mMachine Learning Associate\u001b[39m\u001b[38;5;124m'\u001b[39m\u001b[38;5;241m.\u001b[39mjoin(\u001b[38;5;28mset\u001b[39m(item))\n\u001b[1;32m---> 11\u001b[0m df_joined \u001b[38;5;241m=\u001b[39m df\u001b[38;5;241m.\u001b[39mgroupby(\u001b[43m(\u001b[49m\u001b[43mjoin_title\u001b[49m\u001b[43m)\u001b[49m\u001b[43m \u001b[49m\u001b[38;5;241;43m&\u001b[39;49m\u001b[43m \u001b[49m\u001b[43m(\u001b[49m\u001b[43m[\u001b[49m\u001b[38;5;124;43m'\u001b[39;49m\u001b[38;5;124;43mJob Title\u001b[39;49m\u001b[38;5;124;43m'\u001b[39;49m\u001b[43m]\u001b[49m\u001b[43m)\u001b[49m)\u001b[38;5;241m.\u001b[39magg({\u001b[38;5;124m'\u001b[39m\u001b[38;5;124mCompany Name\u001b[39m\u001b[38;5;124m'\u001b[39m: join_unique, \u001b[38;5;124m'\u001b[39m\u001b[38;5;124mRole\u001b[39m\u001b[38;5;124m'\u001b[39m: join_unique, \u001b[38;5;124m'\u001b[39m\u001b[38;5;124mSalaries Reported\u001b[39m\u001b[38;5;124m'\u001b[39m: \u001b[38;5;124m'\u001b[39m\u001b[38;5;124mmean\u001b[39m\u001b[38;5;124m'\u001b[39m, \u001b[38;5;124m'\u001b[39m\u001b[38;5;124mLocation\u001b[39m\u001b[38;5;124m'\u001b[39m: join_unique, \u001b[38;5;124m'\u001b[39m\u001b[38;5;124mYearly Salary\u001b[39m\u001b[38;5;124m'\u001b[39m: \u001b[38;5;124m'\u001b[39m\u001b[38;5;124mmean\u001b[39m\u001b[38;5;124m'\u001b[39m})\u001b[38;5;241m.\u001b[39mreset_index\n\u001b[0;32m     12\u001b[0m df_joined\n",
      "\u001b[1;31mTypeError\u001b[0m: unsupported operand type(s) for &: 'function' and 'list'"
     ]
    }
   ],
   "source": [
    "def join_unique(items):\n",
    "    return ','.join(set(items))\n",
    "def join_title(item):\n",
    "    if df['Job Title'] == 'Machine Learning Data Associate I':\n",
    "        return 'Machine Learning Associate'.join(set(item))\n",
    "    if df['Job Title'] == 'Machine Learning Data Associate II':\n",
    "        return 'Machine Learning Associate'.join(set(item))\n",
    "    if df['Job Title'] == 'Machine Learning Associate':\n",
    "        return 'Machine Learning Associate'.join(set(item))\n",
    "\n",
    "df_joined = df.groupby((join_title) & (['Job Title'])).agg({'Company Name': join_unique, 'Role': join_unique, 'Salaries Reported': 'mean', 'Location': join_unique, 'Yearly Salary': 'mean'}).reset_index\n",
    "df_joined"
   ]
  },
  {
   "cell_type": "code",
   "execution_count": 121,
   "metadata": {},
   "outputs": [],
   "source": [
    "#**  To be checked, combining not working"
   ]
  },
  {
   "cell_type": "code",
   "execution_count": 125,
   "metadata": {},
   "outputs": [
    {
     "data": {
      "text/html": [
       "<div>\n",
       "<style scoped>\n",
       "    .dataframe tbody tr th:only-of-type {\n",
       "        vertical-align: middle;\n",
       "    }\n",
       "\n",
       "    .dataframe tbody tr th {\n",
       "        vertical-align: top;\n",
       "    }\n",
       "\n",
       "    .dataframe thead th {\n",
       "        text-align: right;\n",
       "    }\n",
       "</style>\n",
       "<table border=\"1\" class=\"dataframe\">\n",
       "  <thead>\n",
       "    <tr style=\"text-align: right;\">\n",
       "      <th></th>\n",
       "      <th>Salaries Reported</th>\n",
       "      <th>Yearly Salary</th>\n",
       "      <th>Manager Role</th>\n",
       "    </tr>\n",
       "  </thead>\n",
       "  <tbody>\n",
       "    <tr>\n",
       "      <th>count</th>\n",
       "      <td>5127.000000</td>\n",
       "      <td>5.127000e+03</td>\n",
       "      <td>5127.000000</td>\n",
       "    </tr>\n",
       "    <tr>\n",
       "      <th>mean</th>\n",
       "      <td>2.546909</td>\n",
       "      <td>1.232570e+06</td>\n",
       "      <td>0.157792</td>\n",
       "    </tr>\n",
       "    <tr>\n",
       "      <th>std</th>\n",
       "      <td>4.808232</td>\n",
       "      <td>1.816492e+06</td>\n",
       "      <td>0.364581</td>\n",
       "    </tr>\n",
       "    <tr>\n",
       "      <th>min</th>\n",
       "      <td>1.000000</td>\n",
       "      <td>1.081400e+04</td>\n",
       "      <td>0.000000</td>\n",
       "    </tr>\n",
       "    <tr>\n",
       "      <th>25%</th>\n",
       "      <td>1.000000</td>\n",
       "      <td>4.629770e+05</td>\n",
       "      <td>0.000000</td>\n",
       "    </tr>\n",
       "    <tr>\n",
       "      <th>50%</th>\n",
       "      <td>1.000000</td>\n",
       "      <td>8.239710e+05</td>\n",
       "      <td>0.000000</td>\n",
       "    </tr>\n",
       "    <tr>\n",
       "      <th>75%</th>\n",
       "      <td>2.000000</td>\n",
       "      <td>1.435941e+06</td>\n",
       "      <td>0.000000</td>\n",
       "    </tr>\n",
       "    <tr>\n",
       "      <th>max</th>\n",
       "      <td>105.000000</td>\n",
       "      <td>7.444533e+07</td>\n",
       "      <td>1.000000</td>\n",
       "    </tr>\n",
       "  </tbody>\n",
       "</table>\n",
       "</div>"
      ],
      "text/plain": [
       "       Salaries Reported  Yearly Salary  Manager Role\n",
       "count        5127.000000   5.127000e+03   5127.000000\n",
       "mean            2.546909   1.232570e+06      0.157792\n",
       "std             4.808232   1.816492e+06      0.364581\n",
       "min             1.000000   1.081400e+04      0.000000\n",
       "25%             1.000000   4.629770e+05      0.000000\n",
       "50%             1.000000   8.239710e+05      0.000000\n",
       "75%             2.000000   1.435941e+06      0.000000\n",
       "max           105.000000   7.444533e+07      1.000000"
      ]
     },
     "execution_count": 125,
     "metadata": {},
     "output_type": "execute_result"
    }
   ],
   "source": [
    "# Check for missing values\n",
    "# Replace missing values. We had just 4 missing values from column:'Company Name' and replaced with: 'Unknown Company'\n",
    "# Check for outliers using '.describe()' function\n",
    "\n",
    "df.isna().sum()\n",
    "df['Company Name'].fillna('Unknown Company', inplace=True)\n",
    "\n",
    "df.describe()"
   ]
  },
  {
   "cell_type": "markdown",
   "metadata": {},
   "source": [
    "##### We can observe from basic stats that there are outliers. With max. yearly salary of over 74 million compared to a min. slary of just 10000. This can be explain by differences in job roles: managers and specialist, and also company size. we can also see huge differences in reported salaries indicating very big diiferences in company size measured by number of employees."
   ]
  },
  {
   "cell_type": "code",
   "execution_count": 126,
   "metadata": {},
   "outputs": [
    {
     "data": {
      "text/html": [
       "<div>\n",
       "<style scoped>\n",
       "    .dataframe tbody tr th:only-of-type {\n",
       "        vertical-align: middle;\n",
       "    }\n",
       "\n",
       "    .dataframe tbody tr th {\n",
       "        vertical-align: top;\n",
       "    }\n",
       "\n",
       "    .dataframe thead th {\n",
       "        text-align: right;\n",
       "    }\n",
       "</style>\n",
       "<table border=\"1\" class=\"dataframe\">\n",
       "  <thead>\n",
       "    <tr style=\"text-align: right;\">\n",
       "      <th></th>\n",
       "      <th>Salaries Reported</th>\n",
       "      <th>Yearly Salary</th>\n",
       "      <th>Manager Role</th>\n",
       "    </tr>\n",
       "  </thead>\n",
       "  <tbody>\n",
       "    <tr>\n",
       "      <th>count</th>\n",
       "      <td>5039.000000</td>\n",
       "      <td>5.039000e+03</td>\n",
       "      <td>5039.000000</td>\n",
       "    </tr>\n",
       "    <tr>\n",
       "      <th>mean</th>\n",
       "      <td>2.571740</td>\n",
       "      <td>1.172381e+06</td>\n",
       "      <td>0.156182</td>\n",
       "    </tr>\n",
       "    <tr>\n",
       "      <th>std</th>\n",
       "      <td>4.846058</td>\n",
       "      <td>1.157423e+06</td>\n",
       "      <td>0.363064</td>\n",
       "    </tr>\n",
       "    <tr>\n",
       "      <th>min</th>\n",
       "      <td>1.000000</td>\n",
       "      <td>1.003260e+05</td>\n",
       "      <td>0.000000</td>\n",
       "    </tr>\n",
       "    <tr>\n",
       "      <th>25%</th>\n",
       "      <td>1.000000</td>\n",
       "      <td>4.779395e+05</td>\n",
       "      <td>0.000000</td>\n",
       "    </tr>\n",
       "    <tr>\n",
       "      <th>50%</th>\n",
       "      <td>1.000000</td>\n",
       "      <td>8.287770e+05</td>\n",
       "      <td>0.000000</td>\n",
       "    </tr>\n",
       "    <tr>\n",
       "      <th>75%</th>\n",
       "      <td>2.000000</td>\n",
       "      <td>1.434444e+06</td>\n",
       "      <td>0.000000</td>\n",
       "    </tr>\n",
       "    <tr>\n",
       "      <th>max</th>\n",
       "      <td>105.000000</td>\n",
       "      <td>9.666564e+06</td>\n",
       "      <td>1.000000</td>\n",
       "    </tr>\n",
       "  </tbody>\n",
       "</table>\n",
       "</div>"
      ],
      "text/plain": [
       "       Salaries Reported  Yearly Salary  Manager Role\n",
       "count        5039.000000   5.039000e+03   5039.000000\n",
       "mean            2.571740   1.172381e+06      0.156182\n",
       "std             4.846058   1.157423e+06      0.363064\n",
       "min             1.000000   1.003260e+05      0.000000\n",
       "25%             1.000000   4.779395e+05      0.000000\n",
       "50%             1.000000   8.287770e+05      0.000000\n",
       "75%             2.000000   1.434444e+06      0.000000\n",
       "max           105.000000   9.666564e+06      1.000000"
      ]
     },
     "execution_count": 126,
     "metadata": {},
     "output_type": "execute_result"
    }
   ],
   "source": [
    "# Remove outliers\n",
    "\n",
    "df2 = df[(df['Yearly Salary'] > 100000) & (df['Yearly Salary'] < 10000000)]\n",
    "df2\n",
    "df2.describe()"
   ]
  },
  {
   "cell_type": "code",
   "execution_count": 127,
   "metadata": {},
   "outputs": [
    {
     "data": {
      "text/html": [
       "<div>\n",
       "<style scoped>\n",
       "    .dataframe tbody tr th:only-of-type {\n",
       "        vertical-align: middle;\n",
       "    }\n",
       "\n",
       "    .dataframe tbody tr th {\n",
       "        vertical-align: top;\n",
       "    }\n",
       "\n",
       "    .dataframe thead th {\n",
       "        text-align: right;\n",
       "    }\n",
       "</style>\n",
       "<table border=\"1\" class=\"dataframe\">\n",
       "  <thead>\n",
       "    <tr style=\"text-align: right;\">\n",
       "      <th></th>\n",
       "      <th>Salaries Reported</th>\n",
       "      <th>Yearly Salary</th>\n",
       "      <th>Manager Role</th>\n",
       "    </tr>\n",
       "  </thead>\n",
       "  <tbody>\n",
       "    <tr>\n",
       "      <th>Salaries Reported</th>\n",
       "      <td>1.000000</td>\n",
       "      <td>-0.085967</td>\n",
       "      <td>-0.114616</td>\n",
       "    </tr>\n",
       "    <tr>\n",
       "      <th>Yearly Salary</th>\n",
       "      <td>-0.085967</td>\n",
       "      <td>1.000000</td>\n",
       "      <td>0.499398</td>\n",
       "    </tr>\n",
       "    <tr>\n",
       "      <th>Manager Role</th>\n",
       "      <td>-0.114616</td>\n",
       "      <td>0.499398</td>\n",
       "      <td>1.000000</td>\n",
       "    </tr>\n",
       "  </tbody>\n",
       "</table>\n",
       "</div>"
      ],
      "text/plain": [
       "                   Salaries Reported  Yearly Salary  Manager Role\n",
       "Salaries Reported           1.000000      -0.085967     -0.114616\n",
       "Yearly Salary              -0.085967       1.000000      0.499398\n",
       "Manager Role               -0.114616       0.499398      1.000000"
      ]
     },
     "execution_count": 127,
     "metadata": {},
     "output_type": "execute_result"
    }
   ],
   "source": [
    "correlations = df2.corr(numeric_only=True)\n",
    "correlations\n"
   ]
  },
  {
   "cell_type": "code",
   "execution_count": 128,
   "metadata": {},
   "outputs": [
    {
     "data": {
      "text/html": [
       "<div>\n",
       "<style scoped>\n",
       "    .dataframe tbody tr th:only-of-type {\n",
       "        vertical-align: middle;\n",
       "    }\n",
       "\n",
       "    .dataframe tbody tr th {\n",
       "        vertical-align: top;\n",
       "    }\n",
       "\n",
       "    .dataframe thead th {\n",
       "        text-align: right;\n",
       "    }\n",
       "</style>\n",
       "<table border=\"1\" class=\"dataframe\">\n",
       "  <thead>\n",
       "    <tr style=\"text-align: right;\">\n",
       "      <th></th>\n",
       "      <th>Salaries Reported</th>\n",
       "      <th>Yearly Salary</th>\n",
       "      <th>Manager Role</th>\n",
       "    </tr>\n",
       "  </thead>\n",
       "  <tbody>\n",
       "    <tr>\n",
       "      <th>Salaries Reported</th>\n",
       "      <td>1.000000</td>\n",
       "      <td>-0.065193</td>\n",
       "      <td>-0.114675</td>\n",
       "    </tr>\n",
       "    <tr>\n",
       "      <th>Yearly Salary</th>\n",
       "      <td>-0.065193</td>\n",
       "      <td>1.000000</td>\n",
       "      <td>0.399192</td>\n",
       "    </tr>\n",
       "    <tr>\n",
       "      <th>Manager Role</th>\n",
       "      <td>-0.114675</td>\n",
       "      <td>0.399192</td>\n",
       "      <td>1.000000</td>\n",
       "    </tr>\n",
       "  </tbody>\n",
       "</table>\n",
       "</div>"
      ],
      "text/plain": [
       "                   Salaries Reported  Yearly Salary  Manager Role\n",
       "Salaries Reported           1.000000      -0.065193     -0.114675\n",
       "Yearly Salary              -0.065193       1.000000      0.399192\n",
       "Manager Role               -0.114675       0.399192      1.000000"
      ]
     },
     "execution_count": 128,
     "metadata": {},
     "output_type": "execute_result"
    }
   ],
   "source": [
    "# Factorize and get corrlation\n",
    "# Result shows a positive relation between manager role and salary\n",
    "# Reported salaries inversely related to manager role, most reported roles arent for managers\n",
    "\n",
    "values1, names1 = pd.factorize(df['Role'], sort=False)\n",
    "df['Manager Role'] = values1\n",
    "\n",
    "correlations = df.corr(numeric_only=True)\n",
    "correlations\n"
   ]
  },
  {
   "cell_type": "code",
   "execution_count": 129,
   "metadata": {},
   "outputs": [
    {
     "data": {
      "text/html": [
       "<div>\n",
       "<style scoped>\n",
       "    .dataframe tbody tr th:only-of-type {\n",
       "        vertical-align: middle;\n",
       "    }\n",
       "\n",
       "    .dataframe tbody tr th {\n",
       "        vertical-align: top;\n",
       "    }\n",
       "\n",
       "    .dataframe thead th {\n",
       "        text-align: right;\n",
       "    }\n",
       "</style>\n",
       "<table border=\"1\" class=\"dataframe\">\n",
       "  <thead>\n",
       "    <tr style=\"text-align: right;\">\n",
       "      <th></th>\n",
       "      <th>Salaries Reported</th>\n",
       "      <th>Yearly Salary</th>\n",
       "      <th>Manager Role</th>\n",
       "    </tr>\n",
       "  </thead>\n",
       "  <tbody>\n",
       "    <tr>\n",
       "      <th>Salaries Reported</th>\n",
       "      <td>1.000000</td>\n",
       "      <td>-0.072676</td>\n",
       "      <td>-0.254414</td>\n",
       "    </tr>\n",
       "    <tr>\n",
       "      <th>Yearly Salary</th>\n",
       "      <td>-0.072676</td>\n",
       "      <td>1.000000</td>\n",
       "      <td>0.430317</td>\n",
       "    </tr>\n",
       "    <tr>\n",
       "      <th>Manager Role</th>\n",
       "      <td>-0.254414</td>\n",
       "      <td>0.430317</td>\n",
       "      <td>1.000000</td>\n",
       "    </tr>\n",
       "  </tbody>\n",
       "</table>\n",
       "</div>"
      ],
      "text/plain": [
       "                   Salaries Reported  Yearly Salary  Manager Role\n",
       "Salaries Reported           1.000000      -0.072676     -0.254414\n",
       "Yearly Salary              -0.072676       1.000000      0.430317\n",
       "Manager Role               -0.254414       0.430317      1.000000"
      ]
     },
     "execution_count": 129,
     "metadata": {},
     "output_type": "execute_result"
    }
   ],
   "source": [
    "# Using 'spearman' correlation shows stronger positive and negative corrlations between manager role to 'yearly salary' and\n",
    "# 'salaries reported' respectively\n",
    "\n",
    "df.corr(numeric_only=True, method='spearman')"
   ]
  },
  {
   "cell_type": "code",
   "execution_count": 130,
   "metadata": {},
   "outputs": [
    {
     "data": {
      "text/html": [
       "<div>\n",
       "<style scoped>\n",
       "    .dataframe tbody tr th:only-of-type {\n",
       "        vertical-align: middle;\n",
       "    }\n",
       "\n",
       "    .dataframe tbody tr th {\n",
       "        vertical-align: top;\n",
       "    }\n",
       "\n",
       "    .dataframe thead th {\n",
       "        text-align: right;\n",
       "    }\n",
       "</style>\n",
       "<table border=\"1\" class=\"dataframe\">\n",
       "  <thead>\n",
       "    <tr style=\"text-align: right;\">\n",
       "      <th></th>\n",
       "      <th>Salaries Reported</th>\n",
       "      <th>Yearly Salary</th>\n",
       "      <th>Manager Role</th>\n",
       "      <th>Manager</th>\n",
       "      <th>Specialist</th>\n",
       "    </tr>\n",
       "  </thead>\n",
       "  <tbody>\n",
       "    <tr>\n",
       "      <th>Salaries Reported</th>\n",
       "      <td>1.000000</td>\n",
       "      <td>-0.065193</td>\n",
       "      <td>-0.114675</td>\n",
       "      <td>-0.114675</td>\n",
       "      <td>0.114675</td>\n",
       "    </tr>\n",
       "    <tr>\n",
       "      <th>Yearly Salary</th>\n",
       "      <td>-0.065193</td>\n",
       "      <td>1.000000</td>\n",
       "      <td>0.399192</td>\n",
       "      <td>0.399192</td>\n",
       "      <td>-0.399192</td>\n",
       "    </tr>\n",
       "    <tr>\n",
       "      <th>Manager Role</th>\n",
       "      <td>-0.114675</td>\n",
       "      <td>0.399192</td>\n",
       "      <td>1.000000</td>\n",
       "      <td>1.000000</td>\n",
       "      <td>-1.000000</td>\n",
       "    </tr>\n",
       "    <tr>\n",
       "      <th>Manager</th>\n",
       "      <td>-0.114675</td>\n",
       "      <td>0.399192</td>\n",
       "      <td>1.000000</td>\n",
       "      <td>1.000000</td>\n",
       "      <td>-1.000000</td>\n",
       "    </tr>\n",
       "    <tr>\n",
       "      <th>Specialist</th>\n",
       "      <td>0.114675</td>\n",
       "      <td>-0.399192</td>\n",
       "      <td>-1.000000</td>\n",
       "      <td>-1.000000</td>\n",
       "      <td>1.000000</td>\n",
       "    </tr>\n",
       "  </tbody>\n",
       "</table>\n",
       "</div>"
      ],
      "text/plain": [
       "                   Salaries Reported  Yearly Salary  Manager Role   Manager  \\\n",
       "Salaries Reported           1.000000      -0.065193     -0.114675 -0.114675   \n",
       "Yearly Salary              -0.065193       1.000000      0.399192  0.399192   \n",
       "Manager Role               -0.114675       0.399192      1.000000  1.000000   \n",
       "Manager                    -0.114675       0.399192      1.000000  1.000000   \n",
       "Specialist                  0.114675      -0.399192     -1.000000 -1.000000   \n",
       "\n",
       "                   Specialist  \n",
       "Salaries Reported    0.114675  \n",
       "Yearly Salary       -0.399192  \n",
       "Manager Role        -1.000000  \n",
       "Manager             -1.000000  \n",
       "Specialist           1.000000  "
      ]
     },
     "execution_count": 130,
     "metadata": {},
     "output_type": "execute_result"
    }
   ],
   "source": [
    "df5 = df\n",
    "\n",
    "dummies = pd.get_dummies(df5['Role'], dtype=int)\n",
    "df5 = pd.concat([df5, dummies], axis=1)\n",
    "df5 = df5.drop(\"Role\", axis=1)\n",
    "\n",
    "correlations = df5.corr(numeric_only=True)\n",
    "correlations\n"
   ]
  },
  {
   "cell_type": "markdown",
   "metadata": {},
   "source": [
    "#### Extra task"
   ]
  },
  {
   "cell_type": "code",
   "execution_count": 131,
   "metadata": {},
   "outputs": [
    {
     "name": "stdout",
     "output_type": "stream",
     "text": [
      "0.25     462977.0\n",
      "0.50     823971.0\n",
      "0.75    1435941.0\n",
      "Name: Yearly Salary, dtype: float64\n"
     ]
    }
   ],
   "source": [
    "df_quantiles = df['Yearly Salary'].quantile([0.25, 0.5, 0.75])\n",
    "print(df_quantiles) \n"
   ]
  },
  {
   "cell_type": "markdown",
   "metadata": {},
   "source": [
    "##### "
   ]
  },
  {
   "cell_type": "code",
   "execution_count": 132,
   "metadata": {},
   "outputs": [],
   "source": [
    "# Salary range for; \n",
    "# 'quantile 0.25': 0 - 462977, \n",
    "# 462977 < 'quantile 0.5 lower' < 823971\n",
    "# : 823971 <= 'quantile 0.5 upper' < 1435941[\n",
    "# 1435941 <= 'quantile 0.75': <= 74445327"
   ]
  },
  {
   "cell_type": "code",
   "execution_count": 133,
   "metadata": {},
   "outputs": [],
   "source": [
    "# I guess the data can be improve my multiplyingthe 'salaries reported' by the 'yearly salary' \n",
    "# to balance the effect of both when calculating correlation.\n",
    "# We can as well reclassify the 'Role' into 'manager' and 'specialist'. \n",
    "#This would give us a an understanding of wage gap between the two roles. We can further reclassify this based on the city."
   ]
  },
  {
   "cell_type": "code",
   "execution_count": 135,
   "metadata": {},
   "outputs": [
    {
     "ename": "TypeError",
     "evalue": "'Series' object cannot be interpreted as an integer",
     "output_type": "error",
     "traceback": [
      "\u001b[1;31m---------------------------------------------------------------------------\u001b[0m",
      "\u001b[1;31mTypeError\u001b[0m                                 Traceback (most recent call last)",
      "Cell \u001b[1;32mIn[135], line 3\u001b[0m\n\u001b[0;32m      1\u001b[0m data_salaries \u001b[38;5;241m=\u001b[39m []\n\u001b[1;32m----> 3\u001b[0m \u001b[38;5;28;01mfor\u001b[39;00m i \u001b[38;5;129;01min\u001b[39;00m \u001b[38;5;28;43mrange\u001b[39;49m\u001b[43m(\u001b[49m\u001b[43mdf\u001b[49m\u001b[43m[\u001b[49m\u001b[38;5;124;43m'\u001b[39;49m\u001b[38;5;124;43mSalaries Reported\u001b[39;49m\u001b[38;5;124;43m'\u001b[39;49m\u001b[43m]\u001b[49m\u001b[43m)\u001b[49m:\n\u001b[0;32m      4\u001b[0m     \u001b[38;5;28;01mfor\u001b[39;00m j \u001b[38;5;129;01min\u001b[39;00m \u001b[38;5;28mrange\u001b[39m(\u001b[38;5;28mint\u001b[39m(df[\u001b[38;5;124m'\u001b[39m\u001b[38;5;124mYearly Salary\u001b[39m\u001b[38;5;124m'\u001b[39m][i])):\n\u001b[0;32m      5\u001b[0m         new_df \u001b[38;5;241m=\u001b[39m [df[\u001b[38;5;124m'\u001b[39m\u001b[38;5;124mCompany Name\u001b[39m\u001b[38;5;124m'\u001b[39m][i], df[\u001b[38;5;124m'\u001b[39m\u001b[38;5;124mJob Title\u001b[39m\u001b[38;5;124m'\u001b[39m][i], df[\u001b[38;5;124m'\u001b[39m\u001b[38;5;124mRole\u001b[39m\u001b[38;5;124m'\u001b[39m][i], df[\u001b[38;5;124m'\u001b[39m\u001b[38;5;124mSalaries Reported\u001b[39m\u001b[38;5;124m'\u001b[39m][i], df[\u001b[38;5;124m'\u001b[39m\u001b[38;5;124mLocation\u001b[39m\u001b[38;5;124m'\u001b[39m][i], df[\u001b[38;5;124m'\u001b[39m\u001b[38;5;124mYearly Salary\u001b[39m\u001b[38;5;124m'\u001b[39m][i], df[\u001b[38;5;124m'\u001b[39m\u001b[38;5;124mManager Role\u001b[39m\u001b[38;5;124m'\u001b[39m][i]]\n",
      "\u001b[1;31mTypeError\u001b[0m: 'Series' object cannot be interpreted as an integer"
     ]
    }
   ],
   "source": [
    "data_salaries = []\n",
    "\n",
    "for i in range(df['Salaries Reported']):\n",
    "    for j in range(int(df['Yearly Salary'][i])):\n",
    "        new_df = [df['Company Name'][i], df['Job Title'][i], df['Role'][i], df['Salaries Reported'][i], df['Location'][i], df['Yearly Salary'][i], df['Manager Role'][i]]\n",
    "        data_salaries.append(new_df)\n",
    "\n",
    "modified_df = df(data_salaries, columns=['Company Name', 'Job Title', 'Role', 'Salaries Reported', 'Location', 'Yearly Salary', 'Manager Role'])\n",
    "modified_df"
   ]
  },
  {
   "cell_type": "markdown",
   "metadata": {},
   "source": [
    "#### Advance Tasks"
   ]
  },
  {
   "cell_type": "code",
   "execution_count": 137,
   "metadata": {},
   "outputs": [
    {
     "data": {
      "text/html": [
       "<div>\n",
       "<style scoped>\n",
       "    .dataframe tbody tr th:only-of-type {\n",
       "        vertical-align: middle;\n",
       "    }\n",
       "\n",
       "    .dataframe tbody tr th {\n",
       "        vertical-align: top;\n",
       "    }\n",
       "\n",
       "    .dataframe thead th {\n",
       "        text-align: right;\n",
       "    }\n",
       "</style>\n",
       "<table border=\"1\" class=\"dataframe\">\n",
       "  <thead>\n",
       "    <tr style=\"text-align: right;\">\n",
       "      <th></th>\n",
       "      <th>Unnamed: 0</th>\n",
       "      <th>Name</th>\n",
       "      <th>Platform</th>\n",
       "      <th>Year_of_Release</th>\n",
       "      <th>Genre</th>\n",
       "      <th>Publisher</th>\n",
       "      <th>NA_Sales</th>\n",
       "      <th>EU_Sales</th>\n",
       "      <th>JP_Sales</th>\n",
       "      <th>Other_Sales</th>\n",
       "      <th>Global_Sales</th>\n",
       "      <th>Critic_Score</th>\n",
       "      <th>Critic_Count</th>\n",
       "      <th>User_Score</th>\n",
       "      <th>User_Count</th>\n",
       "      <th>Developer</th>\n",
       "      <th>Rating</th>\n",
       "    </tr>\n",
       "  </thead>\n",
       "  <tbody>\n",
       "    <tr>\n",
       "      <th>0</th>\n",
       "      <td>0</td>\n",
       "      <td>Wii Sports</td>\n",
       "      <td>Wii</td>\n",
       "      <td>2006.0</td>\n",
       "      <td>Sports</td>\n",
       "      <td>Nintendo</td>\n",
       "      <td>41.36</td>\n",
       "      <td>28.96</td>\n",
       "      <td>3.77</td>\n",
       "      <td>8.45</td>\n",
       "      <td>82.53</td>\n",
       "      <td>76.0</td>\n",
       "      <td>51.0</td>\n",
       "      <td>8.0</td>\n",
       "      <td>322.0</td>\n",
       "      <td>Nintendo</td>\n",
       "      <td>E</td>\n",
       "    </tr>\n",
       "    <tr>\n",
       "      <th>1</th>\n",
       "      <td>1</td>\n",
       "      <td>Super Mario Bros.</td>\n",
       "      <td>NES</td>\n",
       "      <td>1985.0</td>\n",
       "      <td>Platform</td>\n",
       "      <td>Nintendo</td>\n",
       "      <td>29.08</td>\n",
       "      <td>3.58</td>\n",
       "      <td>6.81</td>\n",
       "      <td>0.77</td>\n",
       "      <td>40.24</td>\n",
       "      <td>NaN</td>\n",
       "      <td>NaN</td>\n",
       "      <td>NaN</td>\n",
       "      <td>NaN</td>\n",
       "      <td>NaN</td>\n",
       "      <td>NaN</td>\n",
       "    </tr>\n",
       "    <tr>\n",
       "      <th>2</th>\n",
       "      <td>2</td>\n",
       "      <td>Mario Kart Wii</td>\n",
       "      <td>Wii</td>\n",
       "      <td>2008.0</td>\n",
       "      <td>Racing</td>\n",
       "      <td>Nintendo</td>\n",
       "      <td>15.68</td>\n",
       "      <td>12.76</td>\n",
       "      <td>3.79</td>\n",
       "      <td>3.29</td>\n",
       "      <td>35.52</td>\n",
       "      <td>82.0</td>\n",
       "      <td>73.0</td>\n",
       "      <td>8.3</td>\n",
       "      <td>709.0</td>\n",
       "      <td>Nintendo</td>\n",
       "      <td>E</td>\n",
       "    </tr>\n",
       "    <tr>\n",
       "      <th>3</th>\n",
       "      <td>3</td>\n",
       "      <td>Wii Sports Resort</td>\n",
       "      <td>Wii</td>\n",
       "      <td>2009.0</td>\n",
       "      <td>Sports</td>\n",
       "      <td>Nintendo</td>\n",
       "      <td>15.61</td>\n",
       "      <td>10.93</td>\n",
       "      <td>3.28</td>\n",
       "      <td>2.95</td>\n",
       "      <td>32.77</td>\n",
       "      <td>80.0</td>\n",
       "      <td>73.0</td>\n",
       "      <td>8.0</td>\n",
       "      <td>192.0</td>\n",
       "      <td>Nintendo</td>\n",
       "      <td>E</td>\n",
       "    </tr>\n",
       "    <tr>\n",
       "      <th>4</th>\n",
       "      <td>4</td>\n",
       "      <td>Pokemon Red/Pokemon Blue</td>\n",
       "      <td>GB</td>\n",
       "      <td>1996.0</td>\n",
       "      <td>Role-Playing</td>\n",
       "      <td>Nintendo</td>\n",
       "      <td>11.27</td>\n",
       "      <td>8.89</td>\n",
       "      <td>10.22</td>\n",
       "      <td>1.00</td>\n",
       "      <td>31.37</td>\n",
       "      <td>NaN</td>\n",
       "      <td>NaN</td>\n",
       "      <td>NaN</td>\n",
       "      <td>NaN</td>\n",
       "      <td>NaN</td>\n",
       "      <td>NaN</td>\n",
       "    </tr>\n",
       "    <tr>\n",
       "      <th>...</th>\n",
       "      <td>...</td>\n",
       "      <td>...</td>\n",
       "      <td>...</td>\n",
       "      <td>...</td>\n",
       "      <td>...</td>\n",
       "      <td>...</td>\n",
       "      <td>...</td>\n",
       "      <td>...</td>\n",
       "      <td>...</td>\n",
       "      <td>...</td>\n",
       "      <td>...</td>\n",
       "      <td>...</td>\n",
       "      <td>...</td>\n",
       "      <td>...</td>\n",
       "      <td>...</td>\n",
       "      <td>...</td>\n",
       "      <td>...</td>\n",
       "    </tr>\n",
       "    <tr>\n",
       "      <th>8359</th>\n",
       "      <td>8359</td>\n",
       "      <td>Samurai Warriors: Sanada Maru</td>\n",
       "      <td>PS3</td>\n",
       "      <td>2016.0</td>\n",
       "      <td>Action</td>\n",
       "      <td>Tecmo Koei</td>\n",
       "      <td>0.00</td>\n",
       "      <td>0.00</td>\n",
       "      <td>0.01</td>\n",
       "      <td>0.00</td>\n",
       "      <td>0.01</td>\n",
       "      <td>NaN</td>\n",
       "      <td>NaN</td>\n",
       "      <td>NaN</td>\n",
       "      <td>NaN</td>\n",
       "      <td>NaN</td>\n",
       "      <td>NaN</td>\n",
       "    </tr>\n",
       "    <tr>\n",
       "      <th>8360</th>\n",
       "      <td>8360</td>\n",
       "      <td>LMA Manager 2007</td>\n",
       "      <td>X360</td>\n",
       "      <td>2006.0</td>\n",
       "      <td>Sports</td>\n",
       "      <td>Codemasters</td>\n",
       "      <td>0.00</td>\n",
       "      <td>0.01</td>\n",
       "      <td>0.00</td>\n",
       "      <td>0.00</td>\n",
       "      <td>0.01</td>\n",
       "      <td>NaN</td>\n",
       "      <td>NaN</td>\n",
       "      <td>NaN</td>\n",
       "      <td>NaN</td>\n",
       "      <td>NaN</td>\n",
       "      <td>NaN</td>\n",
       "    </tr>\n",
       "    <tr>\n",
       "      <th>8361</th>\n",
       "      <td>8361</td>\n",
       "      <td>Haitaka no Psychedelica</td>\n",
       "      <td>PSV</td>\n",
       "      <td>2016.0</td>\n",
       "      <td>Adventure</td>\n",
       "      <td>Idea Factory</td>\n",
       "      <td>0.00</td>\n",
       "      <td>0.00</td>\n",
       "      <td>0.01</td>\n",
       "      <td>0.00</td>\n",
       "      <td>0.01</td>\n",
       "      <td>NaN</td>\n",
       "      <td>NaN</td>\n",
       "      <td>NaN</td>\n",
       "      <td>NaN</td>\n",
       "      <td>NaN</td>\n",
       "      <td>NaN</td>\n",
       "    </tr>\n",
       "    <tr>\n",
       "      <th>8362</th>\n",
       "      <td>8362</td>\n",
       "      <td>Spirits &amp; Spells</td>\n",
       "      <td>GBA</td>\n",
       "      <td>2003.0</td>\n",
       "      <td>Platform</td>\n",
       "      <td>Wanadoo</td>\n",
       "      <td>0.01</td>\n",
       "      <td>0.00</td>\n",
       "      <td>0.00</td>\n",
       "      <td>0.00</td>\n",
       "      <td>0.01</td>\n",
       "      <td>NaN</td>\n",
       "      <td>NaN</td>\n",
       "      <td>NaN</td>\n",
       "      <td>NaN</td>\n",
       "      <td>NaN</td>\n",
       "      <td>NaN</td>\n",
       "    </tr>\n",
       "    <tr>\n",
       "      <th>8363</th>\n",
       "      <td>8363</td>\n",
       "      <td>Winning Post 8 2016</td>\n",
       "      <td>PSV</td>\n",
       "      <td>2016.0</td>\n",
       "      <td>Simulation</td>\n",
       "      <td>Tecmo Koei</td>\n",
       "      <td>0.00</td>\n",
       "      <td>0.00</td>\n",
       "      <td>0.01</td>\n",
       "      <td>0.00</td>\n",
       "      <td>0.01</td>\n",
       "      <td>NaN</td>\n",
       "      <td>NaN</td>\n",
       "      <td>NaN</td>\n",
       "      <td>NaN</td>\n",
       "      <td>NaN</td>\n",
       "      <td>NaN</td>\n",
       "    </tr>\n",
       "  </tbody>\n",
       "</table>\n",
       "<p>16719 rows × 17 columns</p>\n",
       "</div>"
      ],
      "text/plain": [
       "      Unnamed: 0                           Name Platform  Year_of_Release  \\\n",
       "0              0                     Wii Sports      Wii           2006.0   \n",
       "1              1              Super Mario Bros.      NES           1985.0   \n",
       "2              2                 Mario Kart Wii      Wii           2008.0   \n",
       "3              3              Wii Sports Resort      Wii           2009.0   \n",
       "4              4       Pokemon Red/Pokemon Blue       GB           1996.0   \n",
       "...          ...                            ...      ...              ...   \n",
       "8359        8359  Samurai Warriors: Sanada Maru      PS3           2016.0   \n",
       "8360        8360               LMA Manager 2007     X360           2006.0   \n",
       "8361        8361        Haitaka no Psychedelica      PSV           2016.0   \n",
       "8362        8362               Spirits & Spells      GBA           2003.0   \n",
       "8363        8363            Winning Post 8 2016      PSV           2016.0   \n",
       "\n",
       "             Genre     Publisher  NA_Sales  EU_Sales  JP_Sales  Other_Sales  \\\n",
       "0           Sports      Nintendo     41.36     28.96      3.77         8.45   \n",
       "1         Platform      Nintendo     29.08      3.58      6.81         0.77   \n",
       "2           Racing      Nintendo     15.68     12.76      3.79         3.29   \n",
       "3           Sports      Nintendo     15.61     10.93      3.28         2.95   \n",
       "4     Role-Playing      Nintendo     11.27      8.89     10.22         1.00   \n",
       "...            ...           ...       ...       ...       ...          ...   \n",
       "8359        Action    Tecmo Koei      0.00      0.00      0.01         0.00   \n",
       "8360        Sports   Codemasters      0.00      0.01      0.00         0.00   \n",
       "8361     Adventure  Idea Factory      0.00      0.00      0.01         0.00   \n",
       "8362      Platform       Wanadoo      0.01      0.00      0.00         0.00   \n",
       "8363    Simulation    Tecmo Koei      0.00      0.00      0.01         0.00   \n",
       "\n",
       "      Global_Sales  Critic_Score  Critic_Count  User_Score  User_Count  \\\n",
       "0            82.53          76.0          51.0         8.0       322.0   \n",
       "1            40.24           NaN           NaN         NaN         NaN   \n",
       "2            35.52          82.0          73.0         8.3       709.0   \n",
       "3            32.77          80.0          73.0         8.0       192.0   \n",
       "4            31.37           NaN           NaN         NaN         NaN   \n",
       "...            ...           ...           ...         ...         ...   \n",
       "8359          0.01           NaN           NaN         NaN         NaN   \n",
       "8360          0.01           NaN           NaN         NaN         NaN   \n",
       "8361          0.01           NaN           NaN         NaN         NaN   \n",
       "8362          0.01           NaN           NaN         NaN         NaN   \n",
       "8363          0.01           NaN           NaN         NaN         NaN   \n",
       "\n",
       "     Developer Rating  \n",
       "0     Nintendo      E  \n",
       "1          NaN    NaN  \n",
       "2     Nintendo      E  \n",
       "3     Nintendo      E  \n",
       "4          NaN    NaN  \n",
       "...        ...    ...  \n",
       "8359       NaN    NaN  \n",
       "8360       NaN    NaN  \n",
       "8361       NaN    NaN  \n",
       "8362       NaN    NaN  \n",
       "8363       NaN    NaN  \n",
       "\n",
       "[16719 rows x 17 columns]"
      ]
     },
     "metadata": {},
     "output_type": "display_data"
    }
   ],
   "source": [
    "# Tasks 1\n",
    "# Read both csv files on videogames, combine them and save as 'combined.csv'.\n",
    "\n",
    "df_vg1 = pd.read_csv(\"Exercise2/videogames1.csv\")\n",
    "df_vg2 = pd.read_csv(\"Exercise2/videogames2.csv\")\n",
    "\n",
    "combine_df = [df_vg1, df_vg2]\n",
    "combined = pd.concat(combine_df)\n",
    "display(combined)\n",
    "\n",
    "combined.to_csv('combined.csv', index=False)"
   ]
  },
  {
   "cell_type": "code",
   "execution_count": 139,
   "metadata": {},
   "outputs": [
    {
     "data": {
      "text/plain": [
       "Index(['Loan ID', 'Customer ID', 'Loan Status', 'Current Loan Amount', 'Term',\n",
       "       'Credit Score', 'Annual Income', 'Years in current job',\n",
       "       'Home Ownership', 'Purpose', 'Monthly Debt', 'Years of Credit History',\n",
       "       'Months since last delinquent', 'Number of Open Accounts',\n",
       "       'Number of Credit Problems', 'Current Credit Balance',\n",
       "       'Maximum Open Credit', 'Bankruptcies', 'Tax Liens', 'Income Group'],\n",
       "      dtype='object')"
      ]
     },
     "execution_count": 139,
     "metadata": {},
     "output_type": "execute_result"
    }
   ],
   "source": [
    "# Task 2\n",
    "df_loans = pd.read_csv(\"Exercise2\\loans.csv\")\n",
    "\n",
    "df_loans.insert(19, 'Income Group', True)\n",
    "df_loans.columns\n"
   ]
  },
  {
   "cell_type": "code",
   "execution_count": 140,
   "metadata": {},
   "outputs": [
    {
     "name": "stderr",
     "output_type": "stream",
     "text": [
      "C:\\Users\\vmgem\\AppData\\Local\\Temp\\ipykernel_20204\\4005398133.py:1: FutureWarning: A value is trying to be set on a copy of a DataFrame or Series through chained assignment using an inplace method.\n",
      "The behavior will change in pandas 3.0. This inplace method will never work because the intermediate object on which we are setting values always behaves as a copy.\n",
      "\n",
      "For example, when doing 'df[col].method(value, inplace=True)', try using 'df.method({col: value}, inplace=True)' or df[col] = df[col].method(value) instead, to perform the operation inplace on the original object.\n",
      "\n",
      "\n",
      "  df_loans['Annual Income'].fillna(df_loans['Annual Income'].mean(), inplace=True)\n"
     ]
    }
   ],
   "source": [
    "\n",
    "df_loans['Annual Income'].fillna(df_loans['Annual Income'].mean(), inplace=True)"
   ]
  },
  {
   "cell_type": "code",
   "execution_count": 141,
   "metadata": {},
   "outputs": [],
   "source": [
    "# Create a funtion to categorize 'Annual Income' as instructed.\n",
    "# Next, I call the function, apply() and assigned it to the column 'Income Group' which was earlier created\n",
    "\n",
    "def annual_income_category(annual_income):\n",
    "    if annual_income <= 25000:\n",
    "        return '$25k or less'\n",
    "    elif 25000 < annual_income <= 50000:\n",
    "        return '$25k-$50k'\n",
    "    elif 50000 < annual_income <= 100000:\n",
    "        return '$50k-$100k'\n",
    "    elif 100000 < annual_income <= 200000:\n",
    "        return '$100k-$200k'\n",
    "    else:\n",
    "        return '$200k+'\n",
    "\n",
    "df_loans['Income Group'] = df_loans['Annual Income'].apply(annual_income_category)"
   ]
  },
  {
   "cell_type": "code",
   "execution_count": 142,
   "metadata": {},
   "outputs": [
    {
     "data": {
      "text/html": [
       "<div>\n",
       "<style scoped>\n",
       "    .dataframe tbody tr th:only-of-type {\n",
       "        vertical-align: middle;\n",
       "    }\n",
       "\n",
       "    .dataframe tbody tr th {\n",
       "        vertical-align: top;\n",
       "    }\n",
       "\n",
       "    .dataframe thead th {\n",
       "        text-align: right;\n",
       "    }\n",
       "</style>\n",
       "<table border=\"1\" class=\"dataframe\">\n",
       "  <thead>\n",
       "    <tr style=\"text-align: right;\">\n",
       "      <th></th>\n",
       "      <th>count</th>\n",
       "    </tr>\n",
       "    <tr>\n",
       "      <th>Income Group</th>\n",
       "      <th></th>\n",
       "    </tr>\n",
       "  </thead>\n",
       "  <tbody>\n",
       "    <tr>\n",
       "      <th>$200k+</th>\n",
       "      <td>100414</td>\n",
       "    </tr>\n",
       "    <tr>\n",
       "      <th>$100k-$200k</th>\n",
       "      <td>96</td>\n",
       "    </tr>\n",
       "    <tr>\n",
       "      <th>$50k-$100k</th>\n",
       "      <td>4</td>\n",
       "    </tr>\n",
       "  </tbody>\n",
       "</table>\n",
       "</div>"
      ],
      "text/plain": [
       "               count\n",
       "Income Group        \n",
       "$200k+        100414\n",
       "$100k-$200k       96\n",
       "$50k-$100k         4"
      ]
     },
     "execution_count": 142,
     "metadata": {},
     "output_type": "execute_result"
    }
   ],
   "source": [
    "# Get the number of rows for all income groups\n",
    "\n",
    "df_loans['Income Group'].value_counts().to_frame()"
   ]
  },
  {
   "cell_type": "code",
   "execution_count": 143,
   "metadata": {},
   "outputs": [
    {
     "data": {
      "text/plain": [
       "date       0\n",
       "price    141\n",
       "dtype: int64"
      ]
     },
     "execution_count": 143,
     "metadata": {},
     "output_type": "execute_result"
    }
   ],
   "source": [
    "# Question 3\n",
    "# Datasets for Gold and Silver prices\n",
    "# Notice that there are some missing values\n",
    "#import matplotlib\n",
    "\n",
    "df_gold = pd.read_csv(\"D:\\Intro Data Analytics\\Exercise2\\gold_price.csv\")\n",
    "df_silver = pd.read_csv(\"D:\\Intro Data Analytics\\Exercise2\\silver_price.csv\")\n",
    "\n",
    "df_gold.isna().sum()\n"
   ]
  },
  {
   "cell_type": "code",
   "execution_count": 144,
   "metadata": {},
   "outputs": [
    {
     "name": "stderr",
     "output_type": "stream",
     "text": [
      "C:\\Users\\vmgem\\AppData\\Local\\Temp\\ipykernel_20204\\797031185.py:3: FutureWarning: A value is trying to be set on a copy of a DataFrame or Series through chained assignment using an inplace method.\n",
      "The behavior will change in pandas 3.0. This inplace method will never work because the intermediate object on which we are setting values always behaves as a copy.\n",
      "\n",
      "For example, when doing 'df[col].method(value, inplace=True)', try using 'df.method({col: value}, inplace=True)' or df[col] = df[col].method(value) instead, to perform the operation inplace on the original object.\n",
      "\n",
      "\n",
      "  df_gold = df_gold['price'].fillna((df_gold['price'].mean()), inplace=True)\n",
      "C:\\Users\\vmgem\\AppData\\Local\\Temp\\ipykernel_20204\\797031185.py:4: FutureWarning: A value is trying to be set on a copy of a DataFrame or Series through chained assignment using an inplace method.\n",
      "The behavior will change in pandas 3.0. This inplace method will never work because the intermediate object on which we are setting values always behaves as a copy.\n",
      "\n",
      "For example, when doing 'df[col].method(value, inplace=True)', try using 'df.method({col: value}, inplace=True)' or df[col] = df[col].method(value) instead, to perform the operation inplace on the original object.\n",
      "\n",
      "\n",
      "  df_silver = df_silver['price'].fillna((df_silver['price'].mean()), inplace=True)\n"
     ]
    }
   ],
   "source": [
    "# To proceed ith the analysis, I replace the NaN with the average value for each dataset. \n",
    "\n",
    "df_gold = df_gold['price'].fillna((df_gold['price'].mean()), inplace=True)\n",
    "df_silver = df_silver['price'].fillna((df_silver['price'].mean()), inplace=True)\n"
   ]
  },
  {
   "cell_type": "code",
   "execution_count": 145,
   "metadata": {},
   "outputs": [
    {
     "ename": "TypeError",
     "evalue": "'NoneType' object is not subscriptable",
     "output_type": "error",
     "traceback": [
      "\u001b[1;31m---------------------------------------------------------------------------\u001b[0m",
      "\u001b[1;31mTypeError\u001b[0m                                 Traceback (most recent call last)",
      "Cell \u001b[1;32mIn[145], line 3\u001b[0m\n\u001b[0;32m      1\u001b[0m \u001b[38;5;66;03m###  Problems with installing matplotlib, gonna check\u001b[39;00m\n\u001b[1;32m----> 3\u001b[0m cor \u001b[38;5;241m=\u001b[39m \u001b[43mdf_gold\u001b[49m\u001b[43m[\u001b[49m\u001b[38;5;124;43m'\u001b[39;49m\u001b[38;5;124;43mprice\u001b[39;49m\u001b[38;5;124;43m'\u001b[39;49m\u001b[43m]\u001b[49m\u001b[38;5;241m.\u001b[39mcorr(df_silver[\u001b[38;5;124m'\u001b[39m\u001b[38;5;124mprice\u001b[39m\u001b[38;5;124m'\u001b[39m])\n",
      "\u001b[1;31mTypeError\u001b[0m: 'NoneType' object is not subscriptable"
     ]
    }
   ],
   "source": [
    "###  Problems with installing matplotlib, gonna check\n",
    "\n",
    "cor = df_gold['price'].corr(df_silver['price'])"
   ]
  },
  {
   "cell_type": "markdown",
   "metadata": {},
   "source": []
  },
  {
   "cell_type": "code",
   "execution_count": 146,
   "metadata": {},
   "outputs": [
    {
     "data": {
      "text/html": [
       "<div>\n",
       "<style scoped>\n",
       "    .dataframe tbody tr th:only-of-type {\n",
       "        vertical-align: middle;\n",
       "    }\n",
       "\n",
       "    .dataframe tbody tr th {\n",
       "        vertical-align: top;\n",
       "    }\n",
       "\n",
       "    .dataframe thead th {\n",
       "        text-align: right;\n",
       "    }\n",
       "</style>\n",
       "<table border=\"1\" class=\"dataframe\">\n",
       "  <thead>\n",
       "    <tr style=\"text-align: right;\">\n",
       "      <th></th>\n",
       "      <th>SNo</th>\n",
       "      <th>Name</th>\n",
       "      <th>Symbol</th>\n",
       "      <th>Date</th>\n",
       "      <th>High</th>\n",
       "      <th>Low</th>\n",
       "      <th>Open</th>\n",
       "      <th>Close</th>\n",
       "      <th>Volume</th>\n",
       "      <th>Marketcap</th>\n",
       "    </tr>\n",
       "  </thead>\n",
       "  <tbody>\n",
       "    <tr>\n",
       "      <th>0</th>\n",
       "      <td>1</td>\n",
       "      <td>Bitcoin</td>\n",
       "      <td>BTC</td>\n",
       "      <td>2013-04-29 23:59:59</td>\n",
       "      <td>147.488007</td>\n",
       "      <td>134.000000</td>\n",
       "      <td>134.444000</td>\n",
       "      <td>144.539993</td>\n",
       "      <td>0.0</td>\n",
       "      <td>1.603769e+09</td>\n",
       "    </tr>\n",
       "    <tr>\n",
       "      <th>1</th>\n",
       "      <td>2</td>\n",
       "      <td>Bitcoin</td>\n",
       "      <td>BTC</td>\n",
       "      <td>2013-04-30 23:59:59</td>\n",
       "      <td>146.929993</td>\n",
       "      <td>134.050003</td>\n",
       "      <td>144.000000</td>\n",
       "      <td>139.000000</td>\n",
       "      <td>0.0</td>\n",
       "      <td>1.542813e+09</td>\n",
       "    </tr>\n",
       "    <tr>\n",
       "      <th>2</th>\n",
       "      <td>3</td>\n",
       "      <td>Bitcoin</td>\n",
       "      <td>BTC</td>\n",
       "      <td>2013-05-01 23:59:59</td>\n",
       "      <td>139.889999</td>\n",
       "      <td>107.720001</td>\n",
       "      <td>139.000000</td>\n",
       "      <td>116.989998</td>\n",
       "      <td>0.0</td>\n",
       "      <td>1.298955e+09</td>\n",
       "    </tr>\n",
       "    <tr>\n",
       "      <th>3</th>\n",
       "      <td>4</td>\n",
       "      <td>Bitcoin</td>\n",
       "      <td>BTC</td>\n",
       "      <td>2013-05-02 23:59:59</td>\n",
       "      <td>125.599998</td>\n",
       "      <td>92.281898</td>\n",
       "      <td>116.379997</td>\n",
       "      <td>105.209999</td>\n",
       "      <td>0.0</td>\n",
       "      <td>1.168517e+09</td>\n",
       "    </tr>\n",
       "    <tr>\n",
       "      <th>4</th>\n",
       "      <td>5</td>\n",
       "      <td>Bitcoin</td>\n",
       "      <td>BTC</td>\n",
       "      <td>2013-05-03 23:59:59</td>\n",
       "      <td>108.127998</td>\n",
       "      <td>79.099998</td>\n",
       "      <td>106.250000</td>\n",
       "      <td>97.750000</td>\n",
       "      <td>0.0</td>\n",
       "      <td>1.085995e+09</td>\n",
       "    </tr>\n",
       "  </tbody>\n",
       "</table>\n",
       "</div>"
      ],
      "text/plain": [
       "   SNo     Name Symbol                 Date        High         Low  \\\n",
       "0    1  Bitcoin    BTC  2013-04-29 23:59:59  147.488007  134.000000   \n",
       "1    2  Bitcoin    BTC  2013-04-30 23:59:59  146.929993  134.050003   \n",
       "2    3  Bitcoin    BTC  2013-05-01 23:59:59  139.889999  107.720001   \n",
       "3    4  Bitcoin    BTC  2013-05-02 23:59:59  125.599998   92.281898   \n",
       "4    5  Bitcoin    BTC  2013-05-03 23:59:59  108.127998   79.099998   \n",
       "\n",
       "         Open       Close  Volume     Marketcap  \n",
       "0  134.444000  144.539993     0.0  1.603769e+09  \n",
       "1  144.000000  139.000000     0.0  1.542813e+09  \n",
       "2  139.000000  116.989998     0.0  1.298955e+09  \n",
       "3  116.379997  105.209999     0.0  1.168517e+09  \n",
       "4  106.250000   97.750000     0.0  1.085995e+09  "
      ]
     },
     "execution_count": 146,
     "metadata": {},
     "output_type": "execute_result"
    }
   ],
   "source": [
    "# Question 4\n",
    "\n",
    "df_bitcoin = pd.read_csv(\"D:\\Intro Data Analytics\\Exercise2\\coin_Bitcoin.csv\")\n",
    "df_bitcoin.head()"
   ]
  },
  {
   "cell_type": "code",
   "execution_count": 147,
   "metadata": {},
   "outputs": [
    {
     "data": {
      "text/plain": [
       "SNo          0\n",
       "Name         0\n",
       "Symbol       0\n",
       "Date         0\n",
       "High         0\n",
       "Low          0\n",
       "Open         0\n",
       "Close        0\n",
       "Volume       0\n",
       "Marketcap    0\n",
       "dtype: int64"
      ]
     },
     "execution_count": 147,
     "metadata": {},
     "output_type": "execute_result"
    }
   ],
   "source": [
    "df_bitcoin.isna().sum()"
   ]
  },
  {
   "cell_type": "code",
   "execution_count": 148,
   "metadata": {},
   "outputs": [
    {
     "data": {
      "text/html": [
       "<div>\n",
       "<style scoped>\n",
       "    .dataframe tbody tr th:only-of-type {\n",
       "        vertical-align: middle;\n",
       "    }\n",
       "\n",
       "    .dataframe tbody tr th {\n",
       "        vertical-align: top;\n",
       "    }\n",
       "\n",
       "    .dataframe thead th {\n",
       "        text-align: right;\n",
       "    }\n",
       "</style>\n",
       "<table border=\"1\" class=\"dataframe\">\n",
       "  <thead>\n",
       "    <tr style=\"text-align: right;\">\n",
       "      <th></th>\n",
       "      <th>SNo</th>\n",
       "      <th>High</th>\n",
       "      <th>Low</th>\n",
       "      <th>Open</th>\n",
       "      <th>Close</th>\n",
       "      <th>Volume</th>\n",
       "      <th>Marketcap</th>\n",
       "    </tr>\n",
       "  </thead>\n",
       "  <tbody>\n",
       "    <tr>\n",
       "      <th>count</th>\n",
       "      <td>2991.000000</td>\n",
       "      <td>2991.000000</td>\n",
       "      <td>2991.000000</td>\n",
       "      <td>2991.000000</td>\n",
       "      <td>2991.000000</td>\n",
       "      <td>2.991000e+03</td>\n",
       "      <td>2.991000e+03</td>\n",
       "    </tr>\n",
       "    <tr>\n",
       "      <th>mean</th>\n",
       "      <td>1496.000000</td>\n",
       "      <td>6893.326038</td>\n",
       "      <td>6486.009539</td>\n",
       "      <td>6700.146240</td>\n",
       "      <td>6711.290443</td>\n",
       "      <td>1.090633e+10</td>\n",
       "      <td>1.208761e+11</td>\n",
       "    </tr>\n",
       "    <tr>\n",
       "      <th>std</th>\n",
       "      <td>863.571653</td>\n",
       "      <td>11642.832456</td>\n",
       "      <td>10869.032130</td>\n",
       "      <td>11288.043736</td>\n",
       "      <td>11298.141921</td>\n",
       "      <td>1.888895e+10</td>\n",
       "      <td>2.109438e+11</td>\n",
       "    </tr>\n",
       "    <tr>\n",
       "      <th>min</th>\n",
       "      <td>1.000000</td>\n",
       "      <td>74.561096</td>\n",
       "      <td>65.526001</td>\n",
       "      <td>68.504997</td>\n",
       "      <td>68.431000</td>\n",
       "      <td>0.000000e+00</td>\n",
       "      <td>7.784112e+08</td>\n",
       "    </tr>\n",
       "    <tr>\n",
       "      <th>25%</th>\n",
       "      <td>748.500000</td>\n",
       "      <td>436.179001</td>\n",
       "      <td>422.879486</td>\n",
       "      <td>430.445496</td>\n",
       "      <td>430.569489</td>\n",
       "      <td>3.036725e+07</td>\n",
       "      <td>6.305579e+09</td>\n",
       "    </tr>\n",
       "    <tr>\n",
       "      <th>50%</th>\n",
       "      <td>1496.000000</td>\n",
       "      <td>2387.610107</td>\n",
       "      <td>2178.500000</td>\n",
       "      <td>2269.889893</td>\n",
       "      <td>2286.409912</td>\n",
       "      <td>9.460360e+08</td>\n",
       "      <td>3.741503e+10</td>\n",
       "    </tr>\n",
       "    <tr>\n",
       "      <th>75%</th>\n",
       "      <td>2243.500000</td>\n",
       "      <td>8733.926948</td>\n",
       "      <td>8289.800459</td>\n",
       "      <td>8569.656494</td>\n",
       "      <td>8576.238715</td>\n",
       "      <td>1.592015e+10</td>\n",
       "      <td>1.499957e+11</td>\n",
       "    </tr>\n",
       "    <tr>\n",
       "      <th>max</th>\n",
       "      <td>2991.000000</td>\n",
       "      <td>64863.098908</td>\n",
       "      <td>62208.964366</td>\n",
       "      <td>63523.754869</td>\n",
       "      <td>63503.457930</td>\n",
       "      <td>3.509679e+11</td>\n",
       "      <td>1.186364e+12</td>\n",
       "    </tr>\n",
       "  </tbody>\n",
       "</table>\n",
       "</div>"
      ],
      "text/plain": [
       "               SNo          High           Low          Open         Close  \\\n",
       "count  2991.000000   2991.000000   2991.000000   2991.000000   2991.000000   \n",
       "mean   1496.000000   6893.326038   6486.009539   6700.146240   6711.290443   \n",
       "std     863.571653  11642.832456  10869.032130  11288.043736  11298.141921   \n",
       "min       1.000000     74.561096     65.526001     68.504997     68.431000   \n",
       "25%     748.500000    436.179001    422.879486    430.445496    430.569489   \n",
       "50%    1496.000000   2387.610107   2178.500000   2269.889893   2286.409912   \n",
       "75%    2243.500000   8733.926948   8289.800459   8569.656494   8576.238715   \n",
       "max    2991.000000  64863.098908  62208.964366  63523.754869  63503.457930   \n",
       "\n",
       "             Volume     Marketcap  \n",
       "count  2.991000e+03  2.991000e+03  \n",
       "mean   1.090633e+10  1.208761e+11  \n",
       "std    1.888895e+10  2.109438e+11  \n",
       "min    0.000000e+00  7.784112e+08  \n",
       "25%    3.036725e+07  6.305579e+09  \n",
       "50%    9.460360e+08  3.741503e+10  \n",
       "75%    1.592015e+10  1.499957e+11  \n",
       "max    3.509679e+11  1.186364e+12  "
      ]
     },
     "execution_count": 148,
     "metadata": {},
     "output_type": "execute_result"
    }
   ],
   "source": [
    "df_bitcoin.describe()"
   ]
  },
  {
   "cell_type": "code",
   "execution_count": 149,
   "metadata": {},
   "outputs": [
    {
     "data": {
      "text/html": [
       "<div>\n",
       "<style scoped>\n",
       "    .dataframe tbody tr th:only-of-type {\n",
       "        vertical-align: middle;\n",
       "    }\n",
       "\n",
       "    .dataframe tbody tr th {\n",
       "        vertical-align: top;\n",
       "    }\n",
       "\n",
       "    .dataframe thead th {\n",
       "        text-align: right;\n",
       "    }\n",
       "</style>\n",
       "<table border=\"1\" class=\"dataframe\">\n",
       "  <thead>\n",
       "    <tr style=\"text-align: right;\">\n",
       "      <th></th>\n",
       "      <th>SNo</th>\n",
       "      <th>High</th>\n",
       "      <th>Low</th>\n",
       "      <th>Open</th>\n",
       "      <th>Close</th>\n",
       "      <th>Volume</th>\n",
       "      <th>Marketcap</th>\n",
       "    </tr>\n",
       "  </thead>\n",
       "  <tbody>\n",
       "    <tr>\n",
       "      <th>SNo</th>\n",
       "      <td>1.000000</td>\n",
       "      <td>0.667028</td>\n",
       "      <td>0.671538</td>\n",
       "      <td>0.668551</td>\n",
       "      <td>0.669008</td>\n",
       "      <td>0.718164</td>\n",
       "      <td>0.664713</td>\n",
       "    </tr>\n",
       "    <tr>\n",
       "      <th>High</th>\n",
       "      <td>0.667028</td>\n",
       "      <td>1.000000</td>\n",
       "      <td>0.998841</td>\n",
       "      <td>0.999442</td>\n",
       "      <td>0.999417</td>\n",
       "      <td>0.810464</td>\n",
       "      <td>0.999094</td>\n",
       "    </tr>\n",
       "    <tr>\n",
       "      <th>Low</th>\n",
       "      <td>0.671538</td>\n",
       "      <td>0.998841</td>\n",
       "      <td>1.000000</td>\n",
       "      <td>0.998905</td>\n",
       "      <td>0.999291</td>\n",
       "      <td>0.803110</td>\n",
       "      <td>0.999072</td>\n",
       "    </tr>\n",
       "    <tr>\n",
       "      <th>Open</th>\n",
       "      <td>0.668551</td>\n",
       "      <td>0.999442</td>\n",
       "      <td>0.998905</td>\n",
       "      <td>1.000000</td>\n",
       "      <td>0.998646</td>\n",
       "      <td>0.808439</td>\n",
       "      <td>0.998382</td>\n",
       "    </tr>\n",
       "    <tr>\n",
       "      <th>Close</th>\n",
       "      <td>0.669008</td>\n",
       "      <td>0.999417</td>\n",
       "      <td>0.999291</td>\n",
       "      <td>0.998646</td>\n",
       "      <td>1.000000</td>\n",
       "      <td>0.807388</td>\n",
       "      <td>0.999709</td>\n",
       "    </tr>\n",
       "    <tr>\n",
       "      <th>Volume</th>\n",
       "      <td>0.718164</td>\n",
       "      <td>0.810464</td>\n",
       "      <td>0.803110</td>\n",
       "      <td>0.808439</td>\n",
       "      <td>0.807388</td>\n",
       "      <td>1.000000</td>\n",
       "      <td>0.809156</td>\n",
       "    </tr>\n",
       "    <tr>\n",
       "      <th>Marketcap</th>\n",
       "      <td>0.664713</td>\n",
       "      <td>0.999094</td>\n",
       "      <td>0.999072</td>\n",
       "      <td>0.998382</td>\n",
       "      <td>0.999709</td>\n",
       "      <td>0.809156</td>\n",
       "      <td>1.000000</td>\n",
       "    </tr>\n",
       "  </tbody>\n",
       "</table>\n",
       "</div>"
      ],
      "text/plain": [
       "                SNo      High       Low      Open     Close    Volume  \\\n",
       "SNo        1.000000  0.667028  0.671538  0.668551  0.669008  0.718164   \n",
       "High       0.667028  1.000000  0.998841  0.999442  0.999417  0.810464   \n",
       "Low        0.671538  0.998841  1.000000  0.998905  0.999291  0.803110   \n",
       "Open       0.668551  0.999442  0.998905  1.000000  0.998646  0.808439   \n",
       "Close      0.669008  0.999417  0.999291  0.998646  1.000000  0.807388   \n",
       "Volume     0.718164  0.810464  0.803110  0.808439  0.807388  1.000000   \n",
       "Marketcap  0.664713  0.999094  0.999072  0.998382  0.999709  0.809156   \n",
       "\n",
       "           Marketcap  \n",
       "SNo         0.664713  \n",
       "High        0.999094  \n",
       "Low         0.999072  \n",
       "Open        0.998382  \n",
       "Close       0.999709  \n",
       "Volume      0.809156  \n",
       "Marketcap   1.000000  "
      ]
     },
     "execution_count": 149,
     "metadata": {},
     "output_type": "execute_result"
    }
   ],
   "source": [
    "correlations = df_bitcoin.corr(numeric_only=True)\n",
    "correlations"
   ]
  },
  {
   "cell_type": "code",
   "execution_count": 150,
   "metadata": {},
   "outputs": [
    {
     "data": {
      "text/html": [
       "<div>\n",
       "<style scoped>\n",
       "    .dataframe tbody tr th:only-of-type {\n",
       "        vertical-align: middle;\n",
       "    }\n",
       "\n",
       "    .dataframe tbody tr th {\n",
       "        vertical-align: top;\n",
       "    }\n",
       "\n",
       "    .dataframe thead th {\n",
       "        text-align: right;\n",
       "    }\n",
       "</style>\n",
       "<table border=\"1\" class=\"dataframe\">\n",
       "  <thead>\n",
       "    <tr style=\"text-align: right;\">\n",
       "      <th></th>\n",
       "      <th>Salaries Reported</th>\n",
       "      <th>Yearly Salary</th>\n",
       "      <th>Manager Role</th>\n",
       "    </tr>\n",
       "  </thead>\n",
       "  <tbody>\n",
       "    <tr>\n",
       "      <th>count</th>\n",
       "      <td>5039.000000</td>\n",
       "      <td>5.039000e+03</td>\n",
       "      <td>5039.000000</td>\n",
       "    </tr>\n",
       "    <tr>\n",
       "      <th>mean</th>\n",
       "      <td>2.571740</td>\n",
       "      <td>1.172381e+06</td>\n",
       "      <td>0.156182</td>\n",
       "    </tr>\n",
       "    <tr>\n",
       "      <th>std</th>\n",
       "      <td>4.846058</td>\n",
       "      <td>1.157423e+06</td>\n",
       "      <td>0.363064</td>\n",
       "    </tr>\n",
       "    <tr>\n",
       "      <th>min</th>\n",
       "      <td>1.000000</td>\n",
       "      <td>1.003260e+05</td>\n",
       "      <td>0.000000</td>\n",
       "    </tr>\n",
       "    <tr>\n",
       "      <th>25%</th>\n",
       "      <td>1.000000</td>\n",
       "      <td>4.779395e+05</td>\n",
       "      <td>0.000000</td>\n",
       "    </tr>\n",
       "    <tr>\n",
       "      <th>50%</th>\n",
       "      <td>1.000000</td>\n",
       "      <td>8.287770e+05</td>\n",
       "      <td>0.000000</td>\n",
       "    </tr>\n",
       "    <tr>\n",
       "      <th>75%</th>\n",
       "      <td>2.000000</td>\n",
       "      <td>1.434444e+06</td>\n",
       "      <td>0.000000</td>\n",
       "    </tr>\n",
       "    <tr>\n",
       "      <th>max</th>\n",
       "      <td>105.000000</td>\n",
       "      <td>9.666564e+06</td>\n",
       "      <td>1.000000</td>\n",
       "    </tr>\n",
       "  </tbody>\n",
       "</table>\n",
       "</div>"
      ],
      "text/plain": [
       "       Salaries Reported  Yearly Salary  Manager Role\n",
       "count        5039.000000   5.039000e+03   5039.000000\n",
       "mean            2.571740   1.172381e+06      0.156182\n",
       "std             4.846058   1.157423e+06      0.363064\n",
       "min             1.000000   1.003260e+05      0.000000\n",
       "25%             1.000000   4.779395e+05      0.000000\n",
       "50%             1.000000   8.287770e+05      0.000000\n",
       "75%             2.000000   1.434444e+06      0.000000\n",
       "max           105.000000   9.666564e+06      1.000000"
      ]
     },
     "execution_count": 150,
     "metadata": {},
     "output_type": "execute_result"
    }
   ],
   "source": [
    "df = df_bitcoin\n",
    "df = df[(df['Close'] > 100000) & (df['Close'] < 10000000)]\n",
    "df2\n",
    "df2.describe()"
   ]
  }
 ],
 "metadata": {
  "kernelspec": {
   "display_name": ".venv",
   "language": "python",
   "name": "python3"
  },
  "language_info": {
   "codemirror_mode": {
    "name": "ipython",
    "version": 3
   },
   "file_extension": ".py",
   "mimetype": "text/x-python",
   "name": "python",
   "nbconvert_exporter": "python",
   "pygments_lexer": "ipython3",
   "version": "3.10.11"
  }
 },
 "nbformat": 4,
 "nbformat_minor": 2
}
